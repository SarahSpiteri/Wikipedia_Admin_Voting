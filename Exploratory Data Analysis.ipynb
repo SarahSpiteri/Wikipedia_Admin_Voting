{
 "cells": [
  {
   "cell_type": "code",
   "execution_count": 1,
   "id": "a9fc5403",
   "metadata": {
    "ExecuteTime": {
     "end_time": "2022-06-03T20:12:05.502307Z",
     "start_time": "2022-06-03T20:12:03.414331Z"
    }
   },
   "outputs": [],
   "source": [
    "# Requirements\n",
    "import pandas as pd\n",
    "import numpy as np\n",
    "import datetime as dt\n",
    "import sklearn\n",
    "\n",
    "import re\n",
    "import nltk\n",
    "from nltk.stem import SnowballStemmer   \n",
    "from nltk.stem.wordnet import WordNetLemmatizer\n",
    "from nltk.corpus import stopwords\n",
    "from sklearn.feature_extraction.text import TfidfVectorizer\n",
    "\n",
    "import networkx as nx\n",
    "from networkx.algorithms.community import greedy_modularity_communities\n",
    "\n",
    "import warnings\n",
    "warnings.filterwarnings('ignore')"
   ]
  },
  {
   "cell_type": "code",
   "execution_count": 2,
   "id": "9c70a3a7",
   "metadata": {
    "ExecuteTime": {
     "end_time": "2022-06-03T20:12:06.322602Z",
     "start_time": "2022-06-03T20:12:05.502307Z"
    }
   },
   "outputs": [
    {
     "data": {
      "text/html": [
       "<div>\n",
       "<style scoped>\n",
       "    .dataframe tbody tr th:only-of-type {\n",
       "        vertical-align: middle;\n",
       "    }\n",
       "\n",
       "    .dataframe tbody tr th {\n",
       "        vertical-align: top;\n",
       "    }\n",
       "\n",
       "    .dataframe thead th {\n",
       "        text-align: right;\n",
       "    }\n",
       "</style>\n",
       "<table border=\"1\" class=\"dataframe\">\n",
       "  <thead>\n",
       "    <tr style=\"text-align: right;\">\n",
       "      <th></th>\n",
       "      <th>SOURCE</th>\n",
       "      <th>TARGET</th>\n",
       "      <th>VOTE</th>\n",
       "      <th>RESULT</th>\n",
       "      <th>YEAR</th>\n",
       "      <th>DATE</th>\n",
       "      <th>TEXT</th>\n",
       "    </tr>\n",
       "  </thead>\n",
       "  <tbody>\n",
       "    <tr>\n",
       "      <th>0</th>\n",
       "      <td>Steel1943</td>\n",
       "      <td>BDD</td>\n",
       "      <td>1</td>\n",
       "      <td>1</td>\n",
       "      <td>2013</td>\n",
       "      <td>19/04/2013 23:13</td>\n",
       "      <td>'''Support''' as co-nom.</td>\n",
       "    </tr>\n",
       "    <tr>\n",
       "      <th>1</th>\n",
       "      <td>Cuchullain</td>\n",
       "      <td>BDD</td>\n",
       "      <td>1</td>\n",
       "      <td>1</td>\n",
       "      <td>2013</td>\n",
       "      <td>20/04/2013 01:04</td>\n",
       "      <td>'''Support''' as nominator.--</td>\n",
       "    </tr>\n",
       "    <tr>\n",
       "      <th>2</th>\n",
       "      <td>INeverCry</td>\n",
       "      <td>BDD</td>\n",
       "      <td>1</td>\n",
       "      <td>1</td>\n",
       "      <td>2013</td>\n",
       "      <td>19/04/2013 23:43</td>\n",
       "      <td>'''Support''' per noms.</td>\n",
       "    </tr>\n",
       "    <tr>\n",
       "      <th>3</th>\n",
       "      <td>Cncmaster</td>\n",
       "      <td>BDD</td>\n",
       "      <td>1</td>\n",
       "      <td>1</td>\n",
       "      <td>2013</td>\n",
       "      <td>20/04/2013 00:11</td>\n",
       "      <td>'''Support''' per noms. BDD is a strong contri...</td>\n",
       "    </tr>\n",
       "    <tr>\n",
       "      <th>4</th>\n",
       "      <td>Miniapolis</td>\n",
       "      <td>BDD</td>\n",
       "      <td>1</td>\n",
       "      <td>1</td>\n",
       "      <td>2013</td>\n",
       "      <td>20/04/2013 00:56</td>\n",
       "      <td>'''Support''', with great pleasure. I work wit...</td>\n",
       "    </tr>\n",
       "  </tbody>\n",
       "</table>\n",
       "</div>"
      ],
      "text/plain": [
       "       SOURCE TARGET  VOTE  RESULT  YEAR              DATE  \\\n",
       "0   Steel1943    BDD     1       1  2013  19/04/2013 23:13   \n",
       "1  Cuchullain    BDD     1       1  2013  20/04/2013 01:04   \n",
       "2   INeverCry    BDD     1       1  2013  19/04/2013 23:43   \n",
       "3   Cncmaster    BDD     1       1  2013  20/04/2013 00:11   \n",
       "4  Miniapolis    BDD     1       1  2013  20/04/2013 00:56   \n",
       "\n",
       "                                                TEXT  \n",
       "0                           '''Support''' as co-nom.  \n",
       "1                      '''Support''' as nominator.--  \n",
       "2                            '''Support''' per noms.  \n",
       "3  '''Support''' per noms. BDD is a strong contri...  \n",
       "4  '''Support''', with great pleasure. I work wit...  "
      ]
     },
     "execution_count": 2,
     "metadata": {},
     "output_type": "execute_result"
    }
   ],
   "source": [
    "wiki = pd.read_csv('wikiRfA.csv')\n",
    "wiki.head()"
   ]
  },
  {
   "cell_type": "code",
   "execution_count": 3,
   "id": "7702ccb9",
   "metadata": {
    "ExecuteTime": {
     "end_time": "2022-06-03T20:12:06.337837Z",
     "start_time": "2022-06-03T20:12:06.325671Z"
    }
   },
   "outputs": [
    {
     "data": {
      "text/plain": [
       "SOURCE    object\n",
       "TARGET    object\n",
       "VOTE       int64\n",
       "RESULT     int64\n",
       "YEAR       int64\n",
       "DATE      object\n",
       "TEXT      object\n",
       "dtype: object"
      ]
     },
     "execution_count": 3,
     "metadata": {},
     "output_type": "execute_result"
    }
   ],
   "source": [
    "# Check data types\n",
    "wiki.dtypes"
   ]
  },
  {
   "cell_type": "code",
   "execution_count": 4,
   "id": "43a04856",
   "metadata": {
    "ExecuteTime": {
     "end_time": "2022-06-03T20:12:06.946990Z",
     "start_time": "2022-06-03T20:12:06.343890Z"
    }
   },
   "outputs": [],
   "source": [
    "# Adjust Date Format\n",
    "wiki['DATE'] = pd.to_datetime(wiki['DATE'], infer_datetime_format=True)"
   ]
  },
  {
   "cell_type": "code",
   "execution_count": 5,
   "id": "442c78b3",
   "metadata": {
    "ExecuteTime": {
     "end_time": "2022-06-03T20:12:07.026060Z",
     "start_time": "2022-06-03T20:12:06.948990Z"
    }
   },
   "outputs": [],
   "source": [
    "# Get Month Variable\n",
    "wiki['MONTH'] = pd.to_datetime(wiki['DATE']).dt.month"
   ]
  },
  {
   "cell_type": "markdown",
   "id": "43ed24a1",
   "metadata": {},
   "source": [
    "Since elections generally last for 7 days and will wait a few months to run again for the position of administrator after losing an election. Hence, the combination of 'TARGET', 'YEAR' and 'MONTH' should be sufficient to identify each election."
   ]
  },
  {
   "cell_type": "code",
   "execution_count": 6,
   "id": "9c3c3e34",
   "metadata": {
    "ExecuteTime": {
     "end_time": "2022-06-03T20:12:07.088129Z",
     "start_time": "2022-06-03T20:12:07.027132Z"
    }
   },
   "outputs": [
    {
     "name": "stdout",
     "output_type": "stream",
     "text": [
      "SOURCE  :  1646\n",
      "TARGET  : No missing data\n",
      "VOTE  : No missing data\n",
      "RESULT  : No missing data\n",
      "YEAR  : No missing data\n",
      "DATE  :  9243\n",
      "TEXT  :  7028\n",
      "MONTH  :  9243\n"
     ]
    }
   ],
   "source": [
    "# Report Features with missing values - training data\n",
    "for i in wiki.columns:\n",
    "    if wiki[i].isnull().sum() != 0:\n",
    "        print(i, ' : ', wiki[i].isnull().sum())\n",
    "    else:\n",
    "        print(i, ' : No missing data')"
   ]
  },
  {
   "cell_type": "code",
   "execution_count": 7,
   "id": "a3836510",
   "metadata": {
    "ExecuteTime": {
     "end_time": "2022-06-03T20:12:07.119685Z",
     "start_time": "2022-06-03T20:12:07.091125Z"
    }
   },
   "outputs": [
    {
     "name": "stdout",
     "output_type": "stream",
     "text": [
      "       SOURCE             TARGET  VOTE  RESULT  YEAR DATE TEXT  MONTH\n",
      "707       NaN        Jason Quinn     0       1  2013  NaT  NaN    NaN\n",
      "708       NaN        Jason Quinn     0       1  2013  NaT  NaN    NaN\n",
      "793       NaN            Legoktm     1       1  2013  NaT  NaN    NaN\n",
      "1126      NaN      Mattythewhite    -1       1  2013  NaT  NaN    NaN\n",
      "1128      NaN      Mattythewhite    -1       1  2013  NaT  NaN    NaN\n",
      "...       ...                ...   ...     ...   ...  ...  ...    ...\n",
      "197377    NaN             Yelyos     1      -1  2004  NaT  NaN    NaN\n",
      "197441    NaN  Christopher Mahan     1       1  2003  NaT  NaN    NaN\n",
      "197496    NaN       Jwrosenzweig     1       1  2003  NaT  NaN    NaN\n",
      "197542    NaN            Patrick     1       1  2003  NaT  NaN    NaN\n",
      "197572    NaN         Stevertigo     1       1  2003  NaT  NaN    NaN\n",
      "\n",
      "[1646 rows x 8 columns]\n"
     ]
    }
   ],
   "source": [
    "print(wiki[wiki['SOURCE'].isnull()])"
   ]
  },
  {
   "cell_type": "code",
   "execution_count": 8,
   "id": "48212c11",
   "metadata": {
    "ExecuteTime": {
     "end_time": "2022-06-03T20:12:07.135625Z",
     "start_time": "2022-06-03T20:12:07.122682Z"
    }
   },
   "outputs": [
    {
     "name": "stdout",
     "output_type": "stream",
     "text": [
      "                SOURCE         TARGET  VOTE  RESULT  YEAR DATE  \\\n",
      "707                NaN    Jason Quinn     0       1  2013  NaT   \n",
      "708                NaN    Jason Quinn     0       1  2013  NaT   \n",
      "793                NaN        Legoktm     1       1  2013  NaT   \n",
      "969        Majoreditor      Lord Roem     1       1  2013  NaT   \n",
      "1126               NaN  Mattythewhite    -1       1  2013  NaT   \n",
      "...                ...            ...   ...     ...   ...  ...   \n",
      "197590  Daniel Quinlan         Ugen64     1       1  2003  NaT   \n",
      "197591        Delirium         Ugen64     1       1  2003  NaT   \n",
      "197593          Menchi   Vancouverguy     1       1  2003  NaT   \n",
      "197597           Jiang    WhisperToMe     1       1  2003  NaT   \n",
      "197599        Jimregan        Zanimum     1       1  2003  NaT   \n",
      "\n",
      "                                                     TEXT  MONTH  \n",
      "707                                                   NaN    NaN  \n",
      "708                                                   NaN    NaN  \n",
      "793                                                   NaN    NaN  \n",
      "969     '''Support'''. The candidate is a good content...    NaN  \n",
      "1126                                                  NaN    NaN  \n",
      "...                                                   ...    ...  \n",
      "197590  Support.  I have no reason to believe that uge...    NaN  \n",
      "197591  Support.  Didn't have enough information to su...    NaN  \n",
      "197593  Support: He has recently defended [[Nuuk]], ag...    NaN  \n",
      "197597                                        Support. --    NaN  \n",
      "197599  Support - anyone who can write so much, and so...    NaN  \n",
      "\n",
      "[9243 rows x 8 columns]\n"
     ]
    }
   ],
   "source": [
    "print(wiki[wiki['DATE'].isnull()])"
   ]
  },
  {
   "cell_type": "markdown",
   "id": "79cbe64b",
   "metadata": {},
   "source": [
    "The inspection of the data suggests that these observations are missing at random, created by used who were not logged into their account when \"voting\". If the conclusion that these observations are missing at random is correct then these rows cannot be reliably imputed, and dropping these observations will not significantly impact the nature of the data."
   ]
  },
  {
   "cell_type": "code",
   "execution_count": 9,
   "id": "2e22fc01",
   "metadata": {
    "ExecuteTime": {
     "end_time": "2022-06-03T20:12:07.262613Z",
     "start_time": "2022-06-03T20:12:07.137675Z"
    }
   },
   "outputs": [
    {
     "data": {
      "text/plain": [
       "(184104, 8)"
      ]
     },
     "execution_count": 9,
     "metadata": {},
     "output_type": "execute_result"
    }
   ],
   "source": [
    "# Remove missing values\n",
    "wiki = wiki.dropna()\n",
    "wiki.shape"
   ]
  },
  {
   "cell_type": "code",
   "execution_count": 10,
   "id": "15677c2e",
   "metadata": {
    "ExecuteTime": {
     "end_time": "2022-06-03T20:12:07.294660Z",
     "start_time": "2022-06-03T20:12:07.265605Z"
    }
   },
   "outputs": [
    {
     "data": {
      "text/plain": [
       "10053"
      ]
     },
     "execution_count": 10,
     "metadata": {},
     "output_type": "execute_result"
    }
   ],
   "source": [
    "# Number of voters\n",
    "wiki['SOURCE'].nunique()"
   ]
  },
  {
   "cell_type": "code",
   "execution_count": 11,
   "id": "41be36b7",
   "metadata": {
    "ExecuteTime": {
     "end_time": "2022-06-03T20:12:07.326191Z",
     "start_time": "2022-06-03T20:12:07.296653Z"
    }
   },
   "outputs": [
    {
     "data": {
      "text/plain": [
       "3445"
      ]
     },
     "execution_count": 11,
     "metadata": {},
     "output_type": "execute_result"
    }
   ],
   "source": [
    "# Number of nominee\n",
    "wiki['TARGET'].nunique()"
   ]
  },
  {
   "cell_type": "code",
   "execution_count": 12,
   "id": "fdb5909b",
   "metadata": {
    "ExecuteTime": {
     "end_time": "2022-06-03T20:12:07.341376Z",
     "start_time": "2022-06-03T20:12:07.329199Z"
    }
   },
   "outputs": [
    {
     "data": {
      "text/plain": [
       " 1    133609\n",
       "-1     39002\n",
       " 0     11493\n",
       "Name: VOTE, dtype: int64"
      ]
     },
     "execution_count": 12,
     "metadata": {},
     "output_type": "execute_result"
    }
   ],
   "source": [
    "# Vote Counts\n",
    "wiki['VOTE'].value_counts()"
   ]
  },
  {
   "cell_type": "code",
   "execution_count": 13,
   "id": "d854e0c8",
   "metadata": {
    "ExecuteTime": {
     "end_time": "2022-06-03T20:12:07.405469Z",
     "start_time": "2022-06-03T20:12:07.345259Z"
    }
   },
   "outputs": [
    {
     "data": {
      "text/html": [
       "<div>\n",
       "<style scoped>\n",
       "    .dataframe tbody tr th:only-of-type {\n",
       "        vertical-align: middle;\n",
       "    }\n",
       "\n",
       "    .dataframe tbody tr th {\n",
       "        vertical-align: top;\n",
       "    }\n",
       "\n",
       "    .dataframe thead th {\n",
       "        text-align: right;\n",
       "    }\n",
       "</style>\n",
       "<table border=\"1\" class=\"dataframe\">\n",
       "  <thead>\n",
       "    <tr style=\"text-align: right;\">\n",
       "      <th></th>\n",
       "      <th>SOURCE</th>\n",
       "      <th>TARGET</th>\n",
       "      <th>RESULT</th>\n",
       "      <th>YEAR</th>\n",
       "      <th>DATE</th>\n",
       "      <th>TEXT</th>\n",
       "      <th>MONTH</th>\n",
       "      <th>VOTE_-1</th>\n",
       "      <th>VOTE_0</th>\n",
       "      <th>VOTE_1</th>\n",
       "    </tr>\n",
       "  </thead>\n",
       "  <tbody>\n",
       "    <tr>\n",
       "      <th>0</th>\n",
       "      <td>Steel1943</td>\n",
       "      <td>BDD</td>\n",
       "      <td>1</td>\n",
       "      <td>2013</td>\n",
       "      <td>2013-04-19 23:13:00</td>\n",
       "      <td>'''Support''' as co-nom.</td>\n",
       "      <td>4.0</td>\n",
       "      <td>0</td>\n",
       "      <td>0</td>\n",
       "      <td>1</td>\n",
       "    </tr>\n",
       "    <tr>\n",
       "      <th>1</th>\n",
       "      <td>Cuchullain</td>\n",
       "      <td>BDD</td>\n",
       "      <td>1</td>\n",
       "      <td>2013</td>\n",
       "      <td>2013-04-20 01:04:00</td>\n",
       "      <td>'''Support''' as nominator.--</td>\n",
       "      <td>4.0</td>\n",
       "      <td>0</td>\n",
       "      <td>0</td>\n",
       "      <td>1</td>\n",
       "    </tr>\n",
       "    <tr>\n",
       "      <th>2</th>\n",
       "      <td>INeverCry</td>\n",
       "      <td>BDD</td>\n",
       "      <td>1</td>\n",
       "      <td>2013</td>\n",
       "      <td>2013-04-19 23:43:00</td>\n",
       "      <td>'''Support''' per noms.</td>\n",
       "      <td>4.0</td>\n",
       "      <td>0</td>\n",
       "      <td>0</td>\n",
       "      <td>1</td>\n",
       "    </tr>\n",
       "    <tr>\n",
       "      <th>3</th>\n",
       "      <td>Cncmaster</td>\n",
       "      <td>BDD</td>\n",
       "      <td>1</td>\n",
       "      <td>2013</td>\n",
       "      <td>2013-04-20 00:11:00</td>\n",
       "      <td>'''Support''' per noms. BDD is a strong contri...</td>\n",
       "      <td>4.0</td>\n",
       "      <td>0</td>\n",
       "      <td>0</td>\n",
       "      <td>1</td>\n",
       "    </tr>\n",
       "    <tr>\n",
       "      <th>4</th>\n",
       "      <td>Miniapolis</td>\n",
       "      <td>BDD</td>\n",
       "      <td>1</td>\n",
       "      <td>2013</td>\n",
       "      <td>2013-04-20 00:56:00</td>\n",
       "      <td>'''Support''', with great pleasure. I work wit...</td>\n",
       "      <td>4.0</td>\n",
       "      <td>0</td>\n",
       "      <td>0</td>\n",
       "      <td>1</td>\n",
       "    </tr>\n",
       "  </tbody>\n",
       "</table>\n",
       "</div>"
      ],
      "text/plain": [
       "       SOURCE TARGET  RESULT  YEAR                DATE  \\\n",
       "0   Steel1943    BDD       1  2013 2013-04-19 23:13:00   \n",
       "1  Cuchullain    BDD       1  2013 2013-04-20 01:04:00   \n",
       "2   INeverCry    BDD       1  2013 2013-04-19 23:43:00   \n",
       "3   Cncmaster    BDD       1  2013 2013-04-20 00:11:00   \n",
       "4  Miniapolis    BDD       1  2013 2013-04-20 00:56:00   \n",
       "\n",
       "                                                TEXT  MONTH  VOTE_-1  VOTE_0  \\\n",
       "0                           '''Support''' as co-nom.    4.0        0       0   \n",
       "1                      '''Support''' as nominator.--    4.0        0       0   \n",
       "2                            '''Support''' per noms.    4.0        0       0   \n",
       "3  '''Support''' per noms. BDD is a strong contri...    4.0        0       0   \n",
       "4  '''Support''', with great pleasure. I work wit...    4.0        0       0   \n",
       "\n",
       "   VOTE_1  \n",
       "0       1  \n",
       "1       1  \n",
       "2       1  \n",
       "3       1  \n",
       "4       1  "
      ]
     },
     "execution_count": 13,
     "metadata": {},
     "output_type": "execute_result"
    }
   ],
   "source": [
    "# Encode votes\n",
    "wiki_enc = pd.get_dummies(wiki, columns = ['VOTE'], drop_first=False)\n",
    "wiki_enc.head()"
   ]
  },
  {
   "cell_type": "code",
   "execution_count": 14,
   "id": "83b2a9de",
   "metadata": {
    "ExecuteTime": {
     "end_time": "2022-06-03T20:12:07.421139Z",
     "start_time": "2022-06-03T20:12:07.409963Z"
    }
   },
   "outputs": [
    {
     "data": {
      "text/plain": [
       " 1    113316\n",
       "-1     70788\n",
       "Name: RESULT, dtype: int64"
      ]
     },
     "execution_count": 14,
     "metadata": {},
     "output_type": "execute_result"
    }
   ],
   "source": [
    "# Result Counts\n",
    "wiki['RESULT'].value_counts()"
   ]
  },
  {
   "cell_type": "code",
   "execution_count": 15,
   "id": "75c693be",
   "metadata": {
    "ExecuteTime": {
     "end_time": "2022-06-03T20:12:07.451220Z",
     "start_time": "2022-06-03T20:12:07.423210Z"
    }
   },
   "outputs": [
    {
     "data": {
      "text/plain": [
       "(87, 8)"
      ]
     },
     "execution_count": 15,
     "metadata": {},
     "output_type": "execute_result"
    }
   ],
   "source": [
    "# Check for self-loops\n",
    "self_vote = wiki[wiki['SOURCE'] == wiki['TARGET']]\n",
    "self_vote.shape"
   ]
  },
  {
   "cell_type": "code",
   "execution_count": 16,
   "id": "129d8296",
   "metadata": {
    "ExecuteTime": {
     "end_time": "2022-06-03T20:12:07.609984Z",
     "start_time": "2022-06-03T20:12:07.455209Z"
    }
   },
   "outputs": [
    {
     "name": "stdout",
     "output_type": "stream",
     "text": [
      "The included time range is: 2003-08-16 to 2013-06-05\n"
     ]
    }
   ],
   "source": [
    "print('The included time range is: ' + str(wiki['DATE'].dt.date.min()) + ' to ' + str(wiki['DATE'].dt.date.max()))"
   ]
  },
  {
   "cell_type": "markdown",
   "id": "07e15c31",
   "metadata": {},
   "source": [
    "## Text Analysis"
   ]
  },
  {
   "cell_type": "code",
   "execution_count": 17,
   "id": "3568c8e9",
   "metadata": {
    "ExecuteTime": {
     "end_time": "2022-06-03T20:12:07.639984Z",
     "start_time": "2022-06-03T20:12:07.611987Z"
    }
   },
   "outputs": [],
   "source": [
    "# Instanciate Stemmer\n",
    "porter = SnowballStemmer(\"english\")\n",
    "\n",
    "# Instanciate Lemmetizer\n",
    "lmtzr = WordNetLemmatizer()\n",
    "\n",
    "# Set Stropwords - Combination of generic english stopwords and list of words noticed to be too generic when viewing bigram and\n",
    "# trigram outputs during vectorization\n",
    "stop_words = set(stopwords.words('english') + ['support', 'oppose', 'user', 'admin', 'candidate', 'wikipedia', 'color',\n",
    "                                              'http', 'php', 'org', 'luck', 'font', 'see', 'green', 'would', 'e'])\n",
    "\n",
    "# Function to get text in desired lowercase form\n",
    "def abbr_or_lower(word):\n",
    "    if re.match('([A-Z]+[a-z]*){2,}', word):\n",
    "        return word\n",
    "    else:\n",
    "        return word.lower()\n",
    "\n",
    "# Function for different forms of tokeniztion (all 3 forms tested for performace)\n",
    "def tokenize(words, modulation):\n",
    "    tokens = re.split(r'\\W+', words)\n",
    "    stems = []\n",
    "    # filter out any tokens not containing letters (e.g., numeric tokens, raw punctuation)\n",
    "    for token in tokens:\n",
    "        lowers=abbr_or_lower(token)\n",
    "        if lowers not in stop_words:\n",
    "            if re.search('[a-zA-Z]', lowers):\n",
    "                if modulation==1:\n",
    "                    stems.append(porter.stem(lowers))\n",
    "                if modulation==2:\n",
    "                    stems.append(lmtzr.lemmatize(lowers))\n",
    "                if modulation==0:\n",
    "                    stems.append(lowers)\n",
    "    return stems"
   ]
  },
  {
   "cell_type": "code",
   "execution_count": 18,
   "id": "b6ca503d",
   "metadata": {
    "ExecuteTime": {
     "end_time": "2022-06-03T20:12:34.704127Z",
     "start_time": "2022-06-03T20:12:07.641991Z"
    }
   },
   "outputs": [],
   "source": [
    "# Isolate Text\n",
    "text = wiki.TEXT\n",
    "\n",
    "# Apply Pre-Processing\n",
    "comments = [tokenize(comment, 2) for comment in text]"
   ]
  },
  {
   "cell_type": "code",
   "execution_count": 19,
   "id": "596066b3",
   "metadata": {
    "ExecuteTime": {
     "end_time": "2022-06-03T20:12:34.719456Z",
     "start_time": "2022-06-03T20:12:34.704127Z"
    }
   },
   "outputs": [],
   "source": [
    "# Instanciate TfidfVectorizer (tokenizer set to iterate over dcomments)\n",
    "\n",
    "tfidf1 = TfidfVectorizer(ngram_range=(1, 1), tokenizer=lambda doc: doc, lowercase=False) # Unigrams\n",
    "tfidf2 = TfidfVectorizer(ngram_range=(2, 2), tokenizer=lambda doc: doc, lowercase=False) # Bigrams\n",
    "tfidf3 = TfidfVectorizer(ngram_range=(3, 3), tokenizer=lambda doc: doc, lowercase=False) # Trigrams"
   ]
  },
  {
   "cell_type": "code",
   "execution_count": 20,
   "id": "17081e51",
   "metadata": {
    "ExecuteTime": {
     "end_time": "2022-06-03T20:12:40.496317Z",
     "start_time": "2022-06-03T20:12:34.722967Z"
    }
   },
   "outputs": [
    {
     "name": "stdout",
     "output_type": "stream",
     "text": [
      "good          7300.218712\n",
      "per           5236.580255\n",
      "editor        3838.287229\n",
      "strong        3029.827766\n",
      "tool          3008.025322\n",
      "great         2779.936631\n",
      "experience    2573.997252\n",
      "reason        2503.974985\n",
      "answer        2426.053530\n",
      "look          2397.888122\n",
      "dtype: float64\n"
     ]
    }
   ],
   "source": [
    "# Unigrams\n",
    "\n",
    "com_uni = tfidf1.fit_transform(comments)\n",
    "\n",
    "uni_df = pd.DataFrame.sparse.from_spmatrix(com_uni, columns=tfidf1.get_feature_names())\n",
    "uni_df = uni_df.sum(axis=0)\n",
    "uni_df = uni_df.sort_values(axis=0, ascending=False)\n",
    "print(uni_df.head(10))"
   ]
  },
  {
   "cell_type": "code",
   "execution_count": 21,
   "id": "887848c2",
   "metadata": {
    "ExecuteTime": {
     "end_time": "2022-06-03T20:13:34.813922Z",
     "start_time": "2022-06-03T20:12:40.505256Z"
    }
   },
   "outputs": [
    {
     "name": "stdout",
     "output_type": "stream",
     "text": [
      "span style          1187.838081\n",
      "look good           1115.587776\n",
      "per nom             1026.454993\n",
      "good editor          985.524234\n",
      "answer question      852.592994\n",
      "abuse tool           732.656185\n",
      "style family         611.193345\n",
      "make good            532.632393\n",
      "style background     527.637006\n",
      "good work            466.063411\n",
      "dtype: float64\n"
     ]
    }
   ],
   "source": [
    "# Bigrams\n",
    "\n",
    "com_bi = tfidf2.fit_transform(comments)\n",
    "\n",
    "bi_df = pd.DataFrame.sparse.from_spmatrix(com_bi, columns=tfidf2.get_feature_names())\n",
    "bi_df = bi_df.sum(axis=0)\n",
    "bi_df = bi_df.sort_values(axis=0, ascending=False)\n",
    "print(bi_df.head(10))"
   ]
  },
  {
   "cell_type": "code",
   "execution_count": 22,
   "id": "7295ae6e",
   "metadata": {
    "ExecuteTime": {
     "end_time": "2022-06-03T20:15:22.913646Z",
     "start_time": "2022-06-03T20:13:34.819652Z"
    }
   },
   "outputs": [
    {
     "name": "stdout",
     "output_type": "stream",
     "text": [
      "span style family        513.337341\n",
      "en w index               423.533323\n",
      "w index title            418.049257\n",
      "style background gold    376.643787\n",
      "span style border        330.012564\n",
      "border 1px solid         299.672212\n",
      "style border 1px         284.016844\n",
      "small span style         235.807061\n",
      "unlikely abuse tool      226.084665\n",
      "background gold WP       210.933182\n",
      "dtype: float64\n"
     ]
    }
   ],
   "source": [
    "# Trigrams\n",
    "\n",
    "com_tri = tfidf3.fit_transform(comments)\n",
    "\n",
    "tri_df = pd.DataFrame.sparse.from_spmatrix(com_tri, columns=tfidf3.get_feature_names())\n",
    "tri_df = tri_df.sum(axis=0)\n",
    "tri_df = tri_df.sort_values(axis=0, ascending=False)\n",
    "print(tri_df.head(10))"
   ]
  },
  {
   "cell_type": "markdown",
   "id": "5513e139",
   "metadata": {},
   "source": [
    "## Analyse Voting by Target"
   ]
  },
  {
   "cell_type": "code",
   "execution_count": 23,
   "id": "020a59f7",
   "metadata": {
    "ExecuteTime": {
     "end_time": "2022-06-03T20:15:23.275197Z",
     "start_time": "2022-06-03T20:15:22.913646Z"
    }
   },
   "outputs": [
    {
     "data": {
      "text/html": [
       "<div>\n",
       "<style scoped>\n",
       "    .dataframe tbody tr th:only-of-type {\n",
       "        vertical-align: middle;\n",
       "    }\n",
       "\n",
       "    .dataframe tbody tr th {\n",
       "        vertical-align: top;\n",
       "    }\n",
       "\n",
       "    .dataframe thead th {\n",
       "        text-align: right;\n",
       "    }\n",
       "</style>\n",
       "<table border=\"1\" class=\"dataframe\">\n",
       "  <thead>\n",
       "    <tr style=\"text-align: right;\">\n",
       "      <th></th>\n",
       "      <th>SOURCE</th>\n",
       "      <th>VOTE_AGAINST</th>\n",
       "      <th>VOTE_NEUTRAL</th>\n",
       "      <th>VOTE_FOR</th>\n",
       "      <th>RESULT</th>\n",
       "    </tr>\n",
       "    <tr>\n",
       "      <th>TARGET</th>\n",
       "      <th></th>\n",
       "      <th></th>\n",
       "      <th></th>\n",
       "      <th></th>\n",
       "      <th></th>\n",
       "    </tr>\n",
       "  </thead>\n",
       "  <tbody>\n",
       "    <tr>\n",
       "      <th>(aeropagitica)</th>\n",
       "      <td>51</td>\n",
       "      <td>10.0</td>\n",
       "      <td>5</td>\n",
       "      <td>36.0</td>\n",
       "      <td>1</td>\n",
       "    </tr>\n",
       "    <tr>\n",
       "      <th>07bargem</th>\n",
       "      <td>6</td>\n",
       "      <td>6.0</td>\n",
       "      <td>0</td>\n",
       "      <td>0.0</td>\n",
       "      <td>-1</td>\n",
       "    </tr>\n",
       "    <tr>\n",
       "      <th>1234r00t</th>\n",
       "      <td>6</td>\n",
       "      <td>6.0</td>\n",
       "      <td>0</td>\n",
       "      <td>0.0</td>\n",
       "      <td>-1</td>\n",
       "    </tr>\n",
       "    <tr>\n",
       "      <th>168...</th>\n",
       "      <td>6</td>\n",
       "      <td>0.0</td>\n",
       "      <td>0</td>\n",
       "      <td>6.0</td>\n",
       "      <td>1</td>\n",
       "    </tr>\n",
       "    <tr>\n",
       "      <th>21655</th>\n",
       "      <td>24</td>\n",
       "      <td>18.0</td>\n",
       "      <td>2</td>\n",
       "      <td>4.0</td>\n",
       "      <td>-1</td>\n",
       "    </tr>\n",
       "  </tbody>\n",
       "</table>\n",
       "</div>"
      ],
      "text/plain": [
       "                SOURCE  VOTE_AGAINST  VOTE_NEUTRAL  VOTE_FOR  RESULT\n",
       "TARGET                                                              \n",
       "(aeropagitica)      51          10.0             5      36.0       1\n",
       "07bargem             6           6.0             0       0.0      -1\n",
       "1234r00t             6           6.0             0       0.0      -1\n",
       "168...               6           0.0             0       6.0       1\n",
       "21655               24          18.0             2       4.0      -1"
      ]
     },
     "execution_count": 23,
     "metadata": {},
     "output_type": "execute_result"
    }
   ],
   "source": [
    "nominees = wiki_enc.groupby(['TARGET']).agg(SOURCE=('SOURCE', 'count'), VOTE_AGAINST=('VOTE_-1', 'sum'), \n",
    "                                              VOTE_NEUTRAL=('VOTE_0', 'sum'), VOTE_FOR=('VOTE_1', 'sum'),\n",
    "                                              RESULT=('RESULT', pd.Series.max))\n",
    "nominees.head()"
   ]
  },
  {
   "cell_type": "code",
   "execution_count": 24,
   "id": "1f5f45a1",
   "metadata": {
    "ExecuteTime": {
     "end_time": "2022-06-03T20:15:23.319366Z",
     "start_time": "2022-06-03T20:15:23.280170Z"
    }
   },
   "outputs": [
    {
     "name": "stdout",
     "output_type": "stream",
     "text": [
      "Number of Elections : 3445\n",
      "Number of Elections Won and Lost :\n"
     ]
    },
    {
     "data": {
      "text/plain": [
       " 1    1860\n",
       "-1    1585\n",
       "Name: RESULT, dtype: int64"
      ]
     },
     "execution_count": 24,
     "metadata": {},
     "output_type": "execute_result"
    }
   ],
   "source": [
    "print('Number of Elections :', nominees.shape[0])\n",
    "print('Number of Elections Won and Lost :')\n",
    "nominees['RESULT'].value_counts()"
   ]
  },
  {
   "cell_type": "code",
   "execution_count": 25,
   "id": "60b4e853",
   "metadata": {
    "ExecuteTime": {
     "end_time": "2022-06-03T20:15:23.360842Z",
     "start_time": "2022-06-03T20:15:23.319366Z"
    }
   },
   "outputs": [],
   "source": [
    "nominees_list = set(wiki['TARGET'].tolist())\n",
    "voters_list = wiki['SOURCE'].tolist()"
   ]
  },
  {
   "cell_type": "code",
   "execution_count": 26,
   "id": "af6b560f",
   "metadata": {
    "ExecuteTime": {
     "end_time": "2022-06-03T20:15:32.893120Z",
     "start_time": "2022-06-03T20:15:23.360842Z"
    }
   },
   "outputs": [],
   "source": [
    "# Number of times a nominee voted for another\n",
    "target_votes = []\n",
    "for i in nominees_list:\n",
    "    target_votes.append(voters_list.count(i))"
   ]
  },
  {
   "cell_type": "code",
   "execution_count": 27,
   "id": "5f98d5f7",
   "metadata": {
    "ExecuteTime": {
     "end_time": "2022-06-03T20:15:32.914182Z",
     "start_time": "2022-06-03T20:15:32.895940Z"
    }
   },
   "outputs": [],
   "source": [
    "nominees['TARGET_VOTES'] = target_votes"
   ]
  },
  {
   "cell_type": "code",
   "execution_count": 28,
   "id": "20f26d88",
   "metadata": {
    "ExecuteTime": {
     "end_time": "2022-06-03T20:15:32.976717Z",
     "start_time": "2022-06-03T20:15:32.914182Z"
    }
   },
   "outputs": [
    {
     "data": {
      "text/html": [
       "<div>\n",
       "<style scoped>\n",
       "    .dataframe tbody tr th:only-of-type {\n",
       "        vertical-align: middle;\n",
       "    }\n",
       "\n",
       "    .dataframe tbody tr th {\n",
       "        vertical-align: top;\n",
       "    }\n",
       "\n",
       "    .dataframe thead th {\n",
       "        text-align: right;\n",
       "    }\n",
       "</style>\n",
       "<table border=\"1\" class=\"dataframe\">\n",
       "  <thead>\n",
       "    <tr style=\"text-align: right;\">\n",
       "      <th></th>\n",
       "      <th>SOURCE</th>\n",
       "      <th>VOTE_AGAINST</th>\n",
       "      <th>VOTE_NEUTRAL</th>\n",
       "      <th>VOTE_FOR</th>\n",
       "      <th>RESULT</th>\n",
       "      <th>TARGET_VOTES</th>\n",
       "    </tr>\n",
       "  </thead>\n",
       "  <tbody>\n",
       "    <tr>\n",
       "      <th>count</th>\n",
       "      <td>3445.000000</td>\n",
       "      <td>3445.000000</td>\n",
       "      <td>3445.000000</td>\n",
       "      <td>3445.000000</td>\n",
       "      <td>3445.000000</td>\n",
       "      <td>3445.000000</td>\n",
       "    </tr>\n",
       "    <tr>\n",
       "      <th>mean</th>\n",
       "      <td>53.440929</td>\n",
       "      <td>11.321335</td>\n",
       "      <td>3.336139</td>\n",
       "      <td>38.783454</td>\n",
       "      <td>0.079826</td>\n",
       "      <td>33.701887</td>\n",
       "    </tr>\n",
       "    <tr>\n",
       "      <th>std</th>\n",
       "      <td>61.735083</td>\n",
       "      <td>18.517870</td>\n",
       "      <td>5.328107</td>\n",
       "      <td>47.367703</td>\n",
       "      <td>0.996954</td>\n",
       "      <td>73.127295</td>\n",
       "    </tr>\n",
       "    <tr>\n",
       "      <th>min</th>\n",
       "      <td>1.000000</td>\n",
       "      <td>0.000000</td>\n",
       "      <td>0.000000</td>\n",
       "      <td>0.000000</td>\n",
       "      <td>-1.000000</td>\n",
       "      <td>0.000000</td>\n",
       "    </tr>\n",
       "    <tr>\n",
       "      <th>25%</th>\n",
       "      <td>11.000000</td>\n",
       "      <td>1.000000</td>\n",
       "      <td>0.000000</td>\n",
       "      <td>2.000000</td>\n",
       "      <td>-1.000000</td>\n",
       "      <td>0.000000</td>\n",
       "    </tr>\n",
       "    <tr>\n",
       "      <th>50%</th>\n",
       "      <td>39.000000</td>\n",
       "      <td>5.000000</td>\n",
       "      <td>1.000000</td>\n",
       "      <td>23.000000</td>\n",
       "      <td>1.000000</td>\n",
       "      <td>6.000000</td>\n",
       "    </tr>\n",
       "    <tr>\n",
       "      <th>75%</th>\n",
       "      <td>74.000000</td>\n",
       "      <td>14.000000</td>\n",
       "      <td>4.000000</td>\n",
       "      <td>61.000000</td>\n",
       "      <td>1.000000</td>\n",
       "      <td>36.000000</td>\n",
       "    </tr>\n",
       "    <tr>\n",
       "      <th>max</th>\n",
       "      <td>943.000000</td>\n",
       "      <td>329.000000</td>\n",
       "      <td>58.000000</td>\n",
       "      <td>562.000000</td>\n",
       "      <td>1.000000</td>\n",
       "      <td>1227.000000</td>\n",
       "    </tr>\n",
       "  </tbody>\n",
       "</table>\n",
       "</div>"
      ],
      "text/plain": [
       "            SOURCE  VOTE_AGAINST  VOTE_NEUTRAL     VOTE_FOR       RESULT  \\\n",
       "count  3445.000000   3445.000000   3445.000000  3445.000000  3445.000000   \n",
       "mean     53.440929     11.321335      3.336139    38.783454     0.079826   \n",
       "std      61.735083     18.517870      5.328107    47.367703     0.996954   \n",
       "min       1.000000      0.000000      0.000000     0.000000    -1.000000   \n",
       "25%      11.000000      1.000000      0.000000     2.000000    -1.000000   \n",
       "50%      39.000000      5.000000      1.000000    23.000000     1.000000   \n",
       "75%      74.000000     14.000000      4.000000    61.000000     1.000000   \n",
       "max     943.000000    329.000000     58.000000   562.000000     1.000000   \n",
       "\n",
       "       TARGET_VOTES  \n",
       "count   3445.000000  \n",
       "mean      33.701887  \n",
       "std       73.127295  \n",
       "min        0.000000  \n",
       "25%        0.000000  \n",
       "50%        6.000000  \n",
       "75%       36.000000  \n",
       "max     1227.000000  "
      ]
     },
     "execution_count": 28,
     "metadata": {},
     "output_type": "execute_result"
    }
   ],
   "source": [
    "# Overall Descriptive Statistics\n",
    "nominees.describe()"
   ]
  },
  {
   "cell_type": "code",
   "execution_count": 29,
   "id": "fcab950c",
   "metadata": {
    "ExecuteTime": {
     "end_time": "2022-06-03T20:15:33.036263Z",
     "start_time": "2022-06-03T20:15:32.980070Z"
    }
   },
   "outputs": [
    {
     "data": {
      "text/html": [
       "<div>\n",
       "<style scoped>\n",
       "    .dataframe tbody tr th:only-of-type {\n",
       "        vertical-align: middle;\n",
       "    }\n",
       "\n",
       "    .dataframe tbody tr th {\n",
       "        vertical-align: top;\n",
       "    }\n",
       "\n",
       "    .dataframe thead th {\n",
       "        text-align: right;\n",
       "    }\n",
       "</style>\n",
       "<table border=\"1\" class=\"dataframe\">\n",
       "  <thead>\n",
       "    <tr style=\"text-align: right;\">\n",
       "      <th></th>\n",
       "      <th>SOURCE</th>\n",
       "      <th>VOTE_AGAINST</th>\n",
       "      <th>VOTE_NEUTRAL</th>\n",
       "      <th>VOTE_FOR</th>\n",
       "    </tr>\n",
       "  </thead>\n",
       "  <tbody>\n",
       "    <tr>\n",
       "      <th>count</th>\n",
       "      <td>1585.000000</td>\n",
       "      <td>1585.000000</td>\n",
       "      <td>1585.000000</td>\n",
       "      <td>1585.000000</td>\n",
       "    </tr>\n",
       "    <tr>\n",
       "      <th>mean</th>\n",
       "      <td>33.948265</td>\n",
       "      <td>16.246688</td>\n",
       "      <td>4.056782</td>\n",
       "      <td>13.644795</td>\n",
       "    </tr>\n",
       "    <tr>\n",
       "      <th>std</th>\n",
       "      <td>49.161477</td>\n",
       "      <td>18.152423</td>\n",
       "      <td>5.676289</td>\n",
       "      <td>28.665136</td>\n",
       "    </tr>\n",
       "    <tr>\n",
       "      <th>min</th>\n",
       "      <td>1.000000</td>\n",
       "      <td>0.000000</td>\n",
       "      <td>0.000000</td>\n",
       "      <td>0.000000</td>\n",
       "    </tr>\n",
       "    <tr>\n",
       "      <th>25%</th>\n",
       "      <td>7.000000</td>\n",
       "      <td>5.000000</td>\n",
       "      <td>0.000000</td>\n",
       "      <td>0.000000</td>\n",
       "    </tr>\n",
       "    <tr>\n",
       "      <th>50%</th>\n",
       "      <td>15.000000</td>\n",
       "      <td>11.000000</td>\n",
       "      <td>2.000000</td>\n",
       "      <td>2.000000</td>\n",
       "    </tr>\n",
       "    <tr>\n",
       "      <th>75%</th>\n",
       "      <td>43.000000</td>\n",
       "      <td>21.000000</td>\n",
       "      <td>6.000000</td>\n",
       "      <td>14.000000</td>\n",
       "    </tr>\n",
       "    <tr>\n",
       "      <th>max</th>\n",
       "      <td>761.000000</td>\n",
       "      <td>255.000000</td>\n",
       "      <td>58.000000</td>\n",
       "      <td>448.000000</td>\n",
       "    </tr>\n",
       "  </tbody>\n",
       "</table>\n",
       "</div>"
      ],
      "text/plain": [
       "            SOURCE  VOTE_AGAINST  VOTE_NEUTRAL     VOTE_FOR\n",
       "count  1585.000000   1585.000000   1585.000000  1585.000000\n",
       "mean     33.948265     16.246688      4.056782    13.644795\n",
       "std      49.161477     18.152423      5.676289    28.665136\n",
       "min       1.000000      0.000000      0.000000     0.000000\n",
       "25%       7.000000      5.000000      0.000000     0.000000\n",
       "50%      15.000000     11.000000      2.000000     2.000000\n",
       "75%      43.000000     21.000000      6.000000    14.000000\n",
       "max     761.000000    255.000000     58.000000   448.000000"
      ]
     },
     "execution_count": 29,
     "metadata": {},
     "output_type": "execute_result"
    }
   ],
   "source": [
    "# Descriptive Statistics for those who lost elections\n",
    "nominees_lost = nominees[nominees['RESULT'] == -1]\n",
    "nominees_lost[['SOURCE', 'VOTE_AGAINST', 'VOTE_NEUTRAL', 'VOTE_FOR']].describe()"
   ]
  },
  {
   "cell_type": "code",
   "execution_count": 30,
   "id": "f84dea5a",
   "metadata": {
    "ExecuteTime": {
     "end_time": "2022-06-03T20:15:33.069355Z",
     "start_time": "2022-06-03T20:15:33.038077Z"
    }
   },
   "outputs": [
    {
     "data": {
      "text/html": [
       "<div>\n",
       "<style scoped>\n",
       "    .dataframe tbody tr th:only-of-type {\n",
       "        vertical-align: middle;\n",
       "    }\n",
       "\n",
       "    .dataframe tbody tr th {\n",
       "        vertical-align: top;\n",
       "    }\n",
       "\n",
       "    .dataframe thead th {\n",
       "        text-align: right;\n",
       "    }\n",
       "</style>\n",
       "<table border=\"1\" class=\"dataframe\">\n",
       "  <thead>\n",
       "    <tr style=\"text-align: right;\">\n",
       "      <th></th>\n",
       "      <th>SOURCE</th>\n",
       "      <th>VOTE_AGAINST</th>\n",
       "      <th>VOTE_NEUTRAL</th>\n",
       "      <th>VOTE_FOR</th>\n",
       "    </tr>\n",
       "  </thead>\n",
       "  <tbody>\n",
       "    <tr>\n",
       "      <th>count</th>\n",
       "      <td>1860.000000</td>\n",
       "      <td>1860.000000</td>\n",
       "      <td>1860.000000</td>\n",
       "      <td>1860.000000</td>\n",
       "    </tr>\n",
       "    <tr>\n",
       "      <th>mean</th>\n",
       "      <td>70.051613</td>\n",
       "      <td>7.124194</td>\n",
       "      <td>2.722043</td>\n",
       "      <td>60.205376</td>\n",
       "    </tr>\n",
       "    <tr>\n",
       "      <th>std</th>\n",
       "      <td>66.342660</td>\n",
       "      <td>17.782172</td>\n",
       "      <td>4.931445</td>\n",
       "      <td>49.584327</td>\n",
       "    </tr>\n",
       "    <tr>\n",
       "      <th>min</th>\n",
       "      <td>1.000000</td>\n",
       "      <td>0.000000</td>\n",
       "      <td>0.000000</td>\n",
       "      <td>0.000000</td>\n",
       "    </tr>\n",
       "    <tr>\n",
       "      <th>25%</th>\n",
       "      <td>30.000000</td>\n",
       "      <td>0.000000</td>\n",
       "      <td>0.000000</td>\n",
       "      <td>26.000000</td>\n",
       "    </tr>\n",
       "    <tr>\n",
       "      <th>50%</th>\n",
       "      <td>58.000000</td>\n",
       "      <td>1.000000</td>\n",
       "      <td>1.000000</td>\n",
       "      <td>53.000000</td>\n",
       "    </tr>\n",
       "    <tr>\n",
       "      <th>75%</th>\n",
       "      <td>91.000000</td>\n",
       "      <td>6.000000</td>\n",
       "      <td>3.000000</td>\n",
       "      <td>81.250000</td>\n",
       "    </tr>\n",
       "    <tr>\n",
       "      <th>max</th>\n",
       "      <td>943.000000</td>\n",
       "      <td>329.000000</td>\n",
       "      <td>53.000000</td>\n",
       "      <td>562.000000</td>\n",
       "    </tr>\n",
       "  </tbody>\n",
       "</table>\n",
       "</div>"
      ],
      "text/plain": [
       "            SOURCE  VOTE_AGAINST  VOTE_NEUTRAL     VOTE_FOR\n",
       "count  1860.000000   1860.000000   1860.000000  1860.000000\n",
       "mean     70.051613      7.124194      2.722043    60.205376\n",
       "std      66.342660     17.782172      4.931445    49.584327\n",
       "min       1.000000      0.000000      0.000000     0.000000\n",
       "25%      30.000000      0.000000      0.000000    26.000000\n",
       "50%      58.000000      1.000000      1.000000    53.000000\n",
       "75%      91.000000      6.000000      3.000000    81.250000\n",
       "max     943.000000    329.000000     53.000000   562.000000"
      ]
     },
     "execution_count": 30,
     "metadata": {},
     "output_type": "execute_result"
    }
   ],
   "source": [
    "# Descriptive Statistics for those who won elections\n",
    "nominees_won = nominees[nominees['RESULT'] == 1]\n",
    "nominees_won[['SOURCE', 'VOTE_AGAINST', 'VOTE_NEUTRAL', 'VOTE_FOR']].describe()"
   ]
  },
  {
   "cell_type": "markdown",
   "id": "37090a67",
   "metadata": {},
   "source": [
    "## Graph Analysis"
   ]
  },
  {
   "cell_type": "code",
   "execution_count": 31,
   "id": "5018c923",
   "metadata": {
    "ExecuteTime": {
     "end_time": "2022-06-03T20:15:34.634452Z",
     "start_time": "2022-06-03T20:15:33.069355Z"
    }
   },
   "outputs": [
    {
     "name": "stdout",
     "output_type": "stream",
     "text": [
      "MultiDiGraph with 11056 nodes and 184104 edges\n"
     ]
    }
   ],
   "source": [
    "G_wiki = nx.from_pandas_edgelist(wiki, 'SOURCE', 'TARGET', edge_attr=['VOTE', 'RESULT', 'DATE'], \n",
    "                                 create_using=nx.MultiDiGraph())\n",
    "print(nx.info(G_wiki))"
   ]
  },
  {
   "cell_type": "code",
   "execution_count": 32,
   "id": "ba8d35e6",
   "metadata": {
    "ExecuteTime": {
     "end_time": "2022-06-03T20:15:36.248268Z",
     "start_time": "2022-06-03T20:15:34.636892Z"
    }
   },
   "outputs": [
    {
     "name": "stdout",
     "output_type": "stream",
     "text": [
      "DiGraph with 11056 nodes and 176331 edges\n"
     ]
    }
   ],
   "source": [
    "# Some measures not available for MultiDiGraph type\n",
    "G_wiki_di = nx.from_pandas_edgelist(wiki, 'SOURCE', 'TARGET', edge_attr=['VOTE', 'RESULT', 'DATE'], \n",
    "                                    create_using=nx.DiGraph())\n",
    "print(nx.info(G_wiki_di))"
   ]
  },
  {
   "cell_type": "markdown",
   "id": "a93715b9",
   "metadata": {},
   "source": [
    "*Node Properties*"
   ]
  },
  {
   "cell_type": "markdown",
   "id": "4ecc2a2f",
   "metadata": {},
   "source": [
    "Node properties chosen based on referenced measures used to identify key players."
   ]
  },
  {
   "cell_type": "code",
   "execution_count": 33,
   "id": "73298098",
   "metadata": {
    "ExecuteTime": {
     "end_time": "2022-06-03T20:15:38.045248Z",
     "start_time": "2022-06-03T20:15:36.248268Z"
    }
   },
   "outputs": [],
   "source": [
    "wikipedian = [node for (node, val) in G_wiki.degree()]\n",
    "degree = [val for (node, val) in G_wiki.degree()]\n",
    "in_degree = [val for (node, val) in G_wiki.in_degree()]\n",
    "out_degree = [val for (node, val) in G_wiki.out_degree()]\n",
    "\n",
    "eigen_centrality = nx.eigenvector_centrality(G_wiki_di)\n",
    "eigen_centrality = [eigen_centrality[node] for node in eigen_centrality]\n",
    "\n",
    "#katz_centrality = nx.katz_centrality(G_wiki_di, max_iter=10000) # Max Iterations reached without convergence\n",
    "#katz_centrality = [katz_centrality[node] for node in katz_centrality]"
   ]
  },
  {
   "cell_type": "code",
   "execution_count": 34,
   "id": "27a8900c",
   "metadata": {
    "ExecuteTime": {
     "end_time": "2022-06-03T20:15:38.089908Z",
     "start_time": "2022-06-03T20:15:38.050247Z"
    }
   },
   "outputs": [],
   "source": [
    "# Add to DataFrame\n",
    "node_properties = pd.DataFrame()\n",
    "node_properties['WIKIPEDIAN'] = wikipedian\n",
    "node_properties['DEGREE'] = degree\n",
    "node_properties['IN_DEGREE'] = in_degree\n",
    "node_properties['OUT_DEGREE'] = out_degree\n",
    "node_properties['EIGEN_CENTRALITY'] = eigen_centrality"
   ]
  },
  {
   "cell_type": "code",
   "execution_count": 35,
   "id": "5f7d4a5e",
   "metadata": {
    "ExecuteTime": {
     "end_time": "2022-06-03T20:15:41.595048Z",
     "start_time": "2022-06-03T20:15:38.089908Z"
    }
   },
   "outputs": [
    {
     "data": {
      "text/html": [
       "<div>\n",
       "<style scoped>\n",
       "    .dataframe tbody tr th:only-of-type {\n",
       "        vertical-align: middle;\n",
       "    }\n",
       "\n",
       "    .dataframe tbody tr th {\n",
       "        vertical-align: top;\n",
       "    }\n",
       "\n",
       "    .dataframe thead th {\n",
       "        text-align: right;\n",
       "    }\n",
       "</style>\n",
       "<table border=\"1\" class=\"dataframe\">\n",
       "  <thead>\n",
       "    <tr style=\"text-align: right;\">\n",
       "      <th></th>\n",
       "      <th>WIKIPEDIAN</th>\n",
       "      <th>DEGREE</th>\n",
       "      <th>IN_DEGREE</th>\n",
       "      <th>OUT_DEGREE</th>\n",
       "      <th>EIGEN_CENTRALITY</th>\n",
       "      <th>NOMINEE</th>\n",
       "    </tr>\n",
       "  </thead>\n",
       "  <tbody>\n",
       "    <tr>\n",
       "      <th>0</th>\n",
       "      <td>Steel1943</td>\n",
       "      <td>4</td>\n",
       "      <td>0</td>\n",
       "      <td>4</td>\n",
       "      <td>1.058696e-39</td>\n",
       "      <td>0</td>\n",
       "    </tr>\n",
       "    <tr>\n",
       "      <th>1</th>\n",
       "      <td>BDD</td>\n",
       "      <td>141</td>\n",
       "      <td>136</td>\n",
       "      <td>5</td>\n",
       "      <td>2.499290e-02</td>\n",
       "      <td>1</td>\n",
       "    </tr>\n",
       "    <tr>\n",
       "      <th>2</th>\n",
       "      <td>Cuchullain</td>\n",
       "      <td>62</td>\n",
       "      <td>60</td>\n",
       "      <td>2</td>\n",
       "      <td>1.562839e-02</td>\n",
       "      <td>1</td>\n",
       "    </tr>\n",
       "    <tr>\n",
       "      <th>3</th>\n",
       "      <td>INeverCry</td>\n",
       "      <td>132</td>\n",
       "      <td>109</td>\n",
       "      <td>23</td>\n",
       "      <td>2.427809e-02</td>\n",
       "      <td>1</td>\n",
       "    </tr>\n",
       "    <tr>\n",
       "      <th>4</th>\n",
       "      <td>Cncmaster</td>\n",
       "      <td>21</td>\n",
       "      <td>0</td>\n",
       "      <td>21</td>\n",
       "      <td>1.058696e-39</td>\n",
       "      <td>0</td>\n",
       "    </tr>\n",
       "  </tbody>\n",
       "</table>\n",
       "</div>"
      ],
      "text/plain": [
       "   WIKIPEDIAN  DEGREE  IN_DEGREE  OUT_DEGREE  EIGEN_CENTRALITY  NOMINEE\n",
       "0   Steel1943       4          0           4      1.058696e-39        0\n",
       "1         BDD     141        136           5      2.499290e-02        1\n",
       "2  Cuchullain      62         60           2      1.562839e-02        1\n",
       "3   INeverCry     132        109          23      2.427809e-02        1\n",
       "4   Cncmaster      21          0          21      1.058696e-39        0"
      ]
     },
     "execution_count": 35,
     "metadata": {},
     "output_type": "execute_result"
    }
   ],
   "source": [
    "node_properties = node_properties.assign(**dict.fromkeys(['NOMINEE'], 0))\n",
    "\n",
    "for i in nominees_list:\n",
    "    node_properties.loc[node_properties.WIKIPEDIAN == i, 'NOMINEE'] = 1\n",
    "    \n",
    "node_properties.head()"
   ]
  },
  {
   "cell_type": "code",
   "execution_count": 36,
   "id": "c2bba33a",
   "metadata": {
    "ExecuteTime": {
     "end_time": "2022-06-03T20:15:41.642137Z",
     "start_time": "2022-06-03T20:15:41.595048Z"
    }
   },
   "outputs": [
    {
     "data": {
      "text/html": [
       "<div>\n",
       "<style scoped>\n",
       "    .dataframe tbody tr th:only-of-type {\n",
       "        vertical-align: middle;\n",
       "    }\n",
       "\n",
       "    .dataframe tbody tr th {\n",
       "        vertical-align: top;\n",
       "    }\n",
       "\n",
       "    .dataframe thead th {\n",
       "        text-align: right;\n",
       "    }\n",
       "</style>\n",
       "<table border=\"1\" class=\"dataframe\">\n",
       "  <thead>\n",
       "    <tr style=\"text-align: right;\">\n",
       "      <th></th>\n",
       "      <th>DEGREE</th>\n",
       "      <th>IN_DEGREE</th>\n",
       "      <th>OUT_DEGREE</th>\n",
       "      <th>EIGEN_CENTRALITY</th>\n",
       "    </tr>\n",
       "  </thead>\n",
       "  <tbody>\n",
       "    <tr>\n",
       "      <th>count</th>\n",
       "      <td>11056.000000</td>\n",
       "      <td>11056.000000</td>\n",
       "      <td>11056.000000</td>\n",
       "      <td>1.105600e+04</td>\n",
       "    </tr>\n",
       "    <tr>\n",
       "      <th>mean</th>\n",
       "      <td>33.303907</td>\n",
       "      <td>16.651954</td>\n",
       "      <td>16.651954</td>\n",
       "      <td>3.520184e-03</td>\n",
       "    </tr>\n",
       "    <tr>\n",
       "      <th>std</th>\n",
       "      <td>74.224253</td>\n",
       "      <td>42.426237</td>\n",
       "      <td>46.772764</td>\n",
       "      <td>8.835383e-03</td>\n",
       "    </tr>\n",
       "    <tr>\n",
       "      <th>min</th>\n",
       "      <td>1.000000</td>\n",
       "      <td>0.000000</td>\n",
       "      <td>0.000000</td>\n",
       "      <td>1.058696e-39</td>\n",
       "    </tr>\n",
       "    <tr>\n",
       "      <th>25%</th>\n",
       "      <td>1.000000</td>\n",
       "      <td>0.000000</td>\n",
       "      <td>1.000000</td>\n",
       "      <td>1.058696e-39</td>\n",
       "    </tr>\n",
       "    <tr>\n",
       "      <th>50%</th>\n",
       "      <td>4.000000</td>\n",
       "      <td>0.000000</td>\n",
       "      <td>2.000000</td>\n",
       "      <td>1.058696e-39</td>\n",
       "    </tr>\n",
       "    <tr>\n",
       "      <th>75%</th>\n",
       "      <td>29.000000</td>\n",
       "      <td>9.000000</td>\n",
       "      <td>11.000000</td>\n",
       "      <td>1.182781e-03</td>\n",
       "    </tr>\n",
       "    <tr>\n",
       "      <th>max</th>\n",
       "      <td>1645.000000</td>\n",
       "      <td>943.000000</td>\n",
       "      <td>1227.000000</td>\n",
       "      <td>1.283127e-01</td>\n",
       "    </tr>\n",
       "  </tbody>\n",
       "</table>\n",
       "</div>"
      ],
      "text/plain": [
       "             DEGREE     IN_DEGREE    OUT_DEGREE  EIGEN_CENTRALITY\n",
       "count  11056.000000  11056.000000  11056.000000      1.105600e+04\n",
       "mean      33.303907     16.651954     16.651954      3.520184e-03\n",
       "std       74.224253     42.426237     46.772764      8.835383e-03\n",
       "min        1.000000      0.000000      0.000000      1.058696e-39\n",
       "25%        1.000000      0.000000      1.000000      1.058696e-39\n",
       "50%        4.000000      0.000000      2.000000      1.058696e-39\n",
       "75%       29.000000      9.000000     11.000000      1.182781e-03\n",
       "max     1645.000000    943.000000   1227.000000      1.283127e-01"
      ]
     },
     "execution_count": 36,
     "metadata": {},
     "output_type": "execute_result"
    }
   ],
   "source": [
    "# Overall description\n",
    "node_properties[['DEGREE', 'IN_DEGREE', 'OUT_DEGREE', 'EIGEN_CENTRALITY']].describe()"
   ]
  },
  {
   "cell_type": "code",
   "execution_count": 37,
   "id": "98dca4f2",
   "metadata": {
    "ExecuteTime": {
     "end_time": "2022-06-03T20:15:41.689323Z",
     "start_time": "2022-06-03T20:15:41.644977Z"
    }
   },
   "outputs": [
    {
     "data": {
      "text/html": [
       "<div>\n",
       "<style scoped>\n",
       "    .dataframe tbody tr th:only-of-type {\n",
       "        vertical-align: middle;\n",
       "    }\n",
       "\n",
       "    .dataframe tbody tr th {\n",
       "        vertical-align: top;\n",
       "    }\n",
       "\n",
       "    .dataframe thead th {\n",
       "        text-align: right;\n",
       "    }\n",
       "</style>\n",
       "<table border=\"1\" class=\"dataframe\">\n",
       "  <thead>\n",
       "    <tr style=\"text-align: right;\">\n",
       "      <th></th>\n",
       "      <th>DEGREE</th>\n",
       "      <th>IN_DEGREE</th>\n",
       "      <th>OUT_DEGREE</th>\n",
       "      <th>EIGEN_CENTRALITY</th>\n",
       "    </tr>\n",
       "  </thead>\n",
       "  <tbody>\n",
       "    <tr>\n",
       "      <th>count</th>\n",
       "      <td>3445.000000</td>\n",
       "      <td>3445.000000</td>\n",
       "      <td>3445.000000</td>\n",
       "      <td>3.445000e+03</td>\n",
       "    </tr>\n",
       "    <tr>\n",
       "      <th>mean</th>\n",
       "      <td>87.142816</td>\n",
       "      <td>53.440929</td>\n",
       "      <td>33.701887</td>\n",
       "      <td>1.129729e-02</td>\n",
       "    </tr>\n",
       "    <tr>\n",
       "      <th>std</th>\n",
       "      <td>110.544445</td>\n",
       "      <td>61.735083</td>\n",
       "      <td>73.127295</td>\n",
       "      <td>1.275517e-02</td>\n",
       "    </tr>\n",
       "    <tr>\n",
       "      <th>min</th>\n",
       "      <td>1.000000</td>\n",
       "      <td>1.000000</td>\n",
       "      <td>0.000000</td>\n",
       "      <td>2.329132e-38</td>\n",
       "    </tr>\n",
       "    <tr>\n",
       "      <th>25%</th>\n",
       "      <td>15.000000</td>\n",
       "      <td>11.000000</td>\n",
       "      <td>0.000000</td>\n",
       "      <td>1.839929e-03</td>\n",
       "    </tr>\n",
       "    <tr>\n",
       "      <th>50%</th>\n",
       "      <td>56.000000</td>\n",
       "      <td>39.000000</td>\n",
       "      <td>6.000000</td>\n",
       "      <td>7.267859e-03</td>\n",
       "    </tr>\n",
       "    <tr>\n",
       "      <th>75%</th>\n",
       "      <td>116.000000</td>\n",
       "      <td>74.000000</td>\n",
       "      <td>36.000000</td>\n",
       "      <td>1.705556e-02</td>\n",
       "    </tr>\n",
       "    <tr>\n",
       "      <th>max</th>\n",
       "      <td>1645.000000</td>\n",
       "      <td>943.000000</td>\n",
       "      <td>1227.000000</td>\n",
       "      <td>1.283127e-01</td>\n",
       "    </tr>\n",
       "  </tbody>\n",
       "</table>\n",
       "</div>"
      ],
      "text/plain": [
       "            DEGREE    IN_DEGREE   OUT_DEGREE  EIGEN_CENTRALITY\n",
       "count  3445.000000  3445.000000  3445.000000      3.445000e+03\n",
       "mean     87.142816    53.440929    33.701887      1.129729e-02\n",
       "std     110.544445    61.735083    73.127295      1.275517e-02\n",
       "min       1.000000     1.000000     0.000000      2.329132e-38\n",
       "25%      15.000000    11.000000     0.000000      1.839929e-03\n",
       "50%      56.000000    39.000000     6.000000      7.267859e-03\n",
       "75%     116.000000    74.000000    36.000000      1.705556e-02\n",
       "max    1645.000000   943.000000  1227.000000      1.283127e-01"
      ]
     },
     "execution_count": 37,
     "metadata": {},
     "output_type": "execute_result"
    }
   ],
   "source": [
    "# Description for nominees\n",
    "\n",
    "node_properties_nominee = node_properties[node_properties['NOMINEE'] == 1]\n",
    "node_properties_nominee[['DEGREE', 'IN_DEGREE', 'OUT_DEGREE', 'EIGEN_CENTRALITY']].describe()"
   ]
  },
  {
   "cell_type": "code",
   "execution_count": 38,
   "id": "0028a6f0",
   "metadata": {
    "ExecuteTime": {
     "end_time": "2022-06-03T20:15:41.736959Z",
     "start_time": "2022-06-03T20:15:41.692269Z"
    }
   },
   "outputs": [
    {
     "data": {
      "text/html": [
       "<div>\n",
       "<style scoped>\n",
       "    .dataframe tbody tr th:only-of-type {\n",
       "        vertical-align: middle;\n",
       "    }\n",
       "\n",
       "    .dataframe tbody tr th {\n",
       "        vertical-align: top;\n",
       "    }\n",
       "\n",
       "    .dataframe thead th {\n",
       "        text-align: right;\n",
       "    }\n",
       "</style>\n",
       "<table border=\"1\" class=\"dataframe\">\n",
       "  <thead>\n",
       "    <tr style=\"text-align: right;\">\n",
       "      <th></th>\n",
       "      <th>DEGREE</th>\n",
       "      <th>IN_DEGREE</th>\n",
       "      <th>OUT_DEGREE</th>\n",
       "      <th>EIGEN_CENTRALITY</th>\n",
       "    </tr>\n",
       "  </thead>\n",
       "  <tbody>\n",
       "    <tr>\n",
       "      <th>count</th>\n",
       "      <td>7611.000000</td>\n",
       "      <td>7611.0</td>\n",
       "      <td>7611.000000</td>\n",
       "      <td>7.611000e+03</td>\n",
       "    </tr>\n",
       "    <tr>\n",
       "      <th>mean</th>\n",
       "      <td>8.934568</td>\n",
       "      <td>0.0</td>\n",
       "      <td>8.934568</td>\n",
       "      <td>1.058696e-39</td>\n",
       "    </tr>\n",
       "    <tr>\n",
       "      <th>std</th>\n",
       "      <td>23.806688</td>\n",
       "      <td>0.0</td>\n",
       "      <td>23.806688</td>\n",
       "      <td>1.102849e-52</td>\n",
       "    </tr>\n",
       "    <tr>\n",
       "      <th>min</th>\n",
       "      <td>1.000000</td>\n",
       "      <td>0.0</td>\n",
       "      <td>1.000000</td>\n",
       "      <td>1.058696e-39</td>\n",
       "    </tr>\n",
       "    <tr>\n",
       "      <th>25%</th>\n",
       "      <td>1.000000</td>\n",
       "      <td>0.0</td>\n",
       "      <td>1.000000</td>\n",
       "      <td>1.058696e-39</td>\n",
       "    </tr>\n",
       "    <tr>\n",
       "      <th>50%</th>\n",
       "      <td>2.000000</td>\n",
       "      <td>0.0</td>\n",
       "      <td>2.000000</td>\n",
       "      <td>1.058696e-39</td>\n",
       "    </tr>\n",
       "    <tr>\n",
       "      <th>75%</th>\n",
       "      <td>6.000000</td>\n",
       "      <td>0.0</td>\n",
       "      <td>6.000000</td>\n",
       "      <td>1.058696e-39</td>\n",
       "    </tr>\n",
       "    <tr>\n",
       "      <th>max</th>\n",
       "      <td>472.000000</td>\n",
       "      <td>0.0</td>\n",
       "      <td>472.000000</td>\n",
       "      <td>1.058696e-39</td>\n",
       "    </tr>\n",
       "  </tbody>\n",
       "</table>\n",
       "</div>"
      ],
      "text/plain": [
       "            DEGREE  IN_DEGREE   OUT_DEGREE  EIGEN_CENTRALITY\n",
       "count  7611.000000     7611.0  7611.000000      7.611000e+03\n",
       "mean      8.934568        0.0     8.934568      1.058696e-39\n",
       "std      23.806688        0.0    23.806688      1.102849e-52\n",
       "min       1.000000        0.0     1.000000      1.058696e-39\n",
       "25%       1.000000        0.0     1.000000      1.058696e-39\n",
       "50%       2.000000        0.0     2.000000      1.058696e-39\n",
       "75%       6.000000        0.0     6.000000      1.058696e-39\n",
       "max     472.000000        0.0   472.000000      1.058696e-39"
      ]
     },
     "execution_count": 38,
     "metadata": {},
     "output_type": "execute_result"
    }
   ],
   "source": [
    "# Description for those voting only\n",
    "\n",
    "node_properties_voters = node_properties[node_properties['NOMINEE'] == 0]\n",
    "node_properties_voters[['DEGREE', 'IN_DEGREE', 'OUT_DEGREE', 'EIGEN_CENTRALITY']].describe()"
   ]
  },
  {
   "cell_type": "markdown",
   "id": "73a153b8",
   "metadata": {},
   "source": [
    "*Graph Structure*"
   ]
  },
  {
   "cell_type": "code",
   "execution_count": 39,
   "id": "8f071efd",
   "metadata": {
    "ExecuteTime": {
     "end_time": "2022-06-03T20:15:41.846609Z",
     "start_time": "2022-06-03T20:15:41.739963Z"
    }
   },
   "outputs": [
    {
     "data": {
      "text/plain": [
       "0.001506282559050557"
      ]
     },
     "execution_count": 39,
     "metadata": {},
     "output_type": "execute_result"
    }
   ],
   "source": [
    "# Density\n",
    "nx.density(G_wiki)"
   ]
  },
  {
   "cell_type": "code",
   "execution_count": 40,
   "id": "5bcd8256",
   "metadata": {
    "ExecuteTime": {
     "end_time": "2022-06-03T20:23:57.137274Z",
     "start_time": "2022-06-03T20:15:41.848609Z"
    }
   },
   "outputs": [
    {
     "name": "stdout",
     "output_type": "stream",
     "text": [
      "Number of Communities based on Greedy Modularity:  25\n"
     ]
    }
   ],
   "source": [
    "# Communities\n",
    "\n",
    "mod_com = greedy_modularity_communities(G_wiki)\n",
    "print('Number of Communities based on Greedy Modularity: ', len(mod_com))"
   ]
  },
  {
   "cell_type": "markdown",
   "id": "58fea78b",
   "metadata": {},
   "source": [
    "*Reciprocity*"
   ]
  },
  {
   "cell_type": "code",
   "execution_count": 41,
   "id": "af71ceab",
   "metadata": {
    "ExecuteTime": {
     "end_time": "2022-06-03T20:24:01.916828Z",
     "start_time": "2022-06-03T20:23:57.168726Z"
    }
   },
   "outputs": [
    {
     "name": "stdout",
     "output_type": "stream",
     "text": [
      "Reciprocity in the Overall Network:  0.0687\n"
     ]
    }
   ],
   "source": [
    "recip = nx.reciprocity(G_wiki)\n",
    "print('Reciprocity in the Overall Network: ', round(recip, 4))"
   ]
  },
  {
   "cell_type": "code",
   "execution_count": 42,
   "id": "a9f8f6d3",
   "metadata": {
    "ExecuteTime": {
     "end_time": "2022-06-03T20:24:02.043060Z",
     "start_time": "2022-06-03T20:24:01.919785Z"
    }
   },
   "outputs": [],
   "source": [
    "wiki_nodes = list(G_wiki.nodes)\n",
    "\n",
    "n_recip = []\n",
    "for i in wiki_nodes:\n",
    "    r = nx.reciprocity(G_wiki, nodes=i)\n",
    "    n_recip.append(r)"
   ]
  },
  {
   "cell_type": "code",
   "execution_count": 43,
   "id": "243f5579",
   "metadata": {
    "ExecuteTime": {
     "end_time": "2022-06-03T20:24:02.058069Z",
     "start_time": "2022-06-03T20:24:02.045063Z"
    }
   },
   "outputs": [
    {
     "name": "stdout",
     "output_type": "stream",
     "text": [
      "The Number of Nodes is  11056\n",
      "Number of Nominations was  3445\n",
      "The Number of Nodes with No Reciprocal Relationships are  9364\n",
      "The Number of Nodes with With Reciprocal Relationships are  1692\n"
     ]
    }
   ],
   "source": [
    "print('The Number of Nodes is ', len(wiki_nodes))\n",
    "print('Number of Nominations was ', len(nominees_list))\n",
    "print('The Number of Nodes with No Reciprocal Relationships are ', n_recip.count(0.0))\n",
    "print('The Number of Nodes with With Reciprocal Relationships are ', len(wiki_nodes) - n_recip.count(0.0))"
   ]
  },
  {
   "cell_type": "code",
   "execution_count": 44,
   "id": "0843883f",
   "metadata": {
    "ExecuteTime": {
     "end_time": "2022-06-03T20:24:02.089273Z",
     "start_time": "2022-06-03T20:24:02.064139Z"
    }
   },
   "outputs": [],
   "source": [
    "recip_df = pd.DataFrame()\n",
    "recip_df['WIKIPEDIAN'] = wiki_nodes\n",
    "recip_df['RECIPROCITY'] = n_recip"
   ]
  },
  {
   "cell_type": "code",
   "execution_count": 45,
   "id": "51158d20",
   "metadata": {
    "ExecuteTime": {
     "end_time": "2022-06-03T20:26:27.717351Z",
     "start_time": "2022-06-03T20:24:02.093270Z"
    }
   },
   "outputs": [],
   "source": [
    "# Flag Nominees, Winners and Losers\n",
    "\n",
    "recip_df = recip_df.assign(**dict.fromkeys(['NOMINEE'], 0))\n",
    "for i in nominees_list:\n",
    "    recip_df.loc[recip_df.WIKIPEDIAN == i, 'NOMINEE'] = 1\n",
    "    \n",
    "recip_df = recip_df.assign(**dict.fromkeys(['WIN'], 0))\n",
    "winners = wiki[wiki['RESULT'] == 1]\n",
    "winners = winners['TARGET'].tolist()\n",
    "for i in winners:\n",
    "    recip_df.loc[recip_df.WIKIPEDIAN == i, 'WIN'] = 1\n",
    "    \n",
    "recip_df = recip_df.assign(**dict.fromkeys(['LOSE'], 0))\n",
    "losers = wiki[wiki['RESULT'] == -1]\n",
    "losers = losers['TARGET'].tolist()\n",
    "for i in losers:\n",
    "    recip_df.loc[recip_df.WIKIPEDIAN == i, 'LOSE'] = 1"
   ]
  },
  {
   "cell_type": "code",
   "execution_count": 46,
   "id": "c1cada92",
   "metadata": {
    "ExecuteTime": {
     "end_time": "2022-06-03T20:26:27.795454Z",
     "start_time": "2022-06-03T20:26:27.717351Z"
    }
   },
   "outputs": [
    {
     "data": {
      "text/html": [
       "<div>\n",
       "<style scoped>\n",
       "    .dataframe tbody tr th:only-of-type {\n",
       "        vertical-align: middle;\n",
       "    }\n",
       "\n",
       "    .dataframe tbody tr th {\n",
       "        vertical-align: top;\n",
       "    }\n",
       "\n",
       "    .dataframe thead th {\n",
       "        text-align: right;\n",
       "    }\n",
       "</style>\n",
       "<table border=\"1\" class=\"dataframe\">\n",
       "  <thead>\n",
       "    <tr style=\"text-align: right;\">\n",
       "      <th></th>\n",
       "      <th>RECIPROCITY</th>\n",
       "      <th>NOMINEE</th>\n",
       "      <th>WIN</th>\n",
       "      <th>LOSE</th>\n",
       "    </tr>\n",
       "  </thead>\n",
       "  <tbody>\n",
       "    <tr>\n",
       "      <th>count</th>\n",
       "      <td>1692.000000</td>\n",
       "      <td>1692.0</td>\n",
       "      <td>1692.000000</td>\n",
       "      <td>1692.000000</td>\n",
       "    </tr>\n",
       "    <tr>\n",
       "      <th>mean</th>\n",
       "      <td>0.096851</td>\n",
       "      <td>1.0</td>\n",
       "      <td>0.751182</td>\n",
       "      <td>0.368794</td>\n",
       "    </tr>\n",
       "    <tr>\n",
       "      <th>std</th>\n",
       "      <td>0.064044</td>\n",
       "      <td>0.0</td>\n",
       "      <td>0.432456</td>\n",
       "      <td>0.482621</td>\n",
       "    </tr>\n",
       "    <tr>\n",
       "      <th>min</th>\n",
       "      <td>0.002110</td>\n",
       "      <td>1.0</td>\n",
       "      <td>0.000000</td>\n",
       "      <td>0.000000</td>\n",
       "    </tr>\n",
       "    <tr>\n",
       "      <th>25%</th>\n",
       "      <td>0.047619</td>\n",
       "      <td>1.0</td>\n",
       "      <td>1.000000</td>\n",
       "      <td>0.000000</td>\n",
       "    </tr>\n",
       "    <tr>\n",
       "      <th>50%</th>\n",
       "      <td>0.083436</td>\n",
       "      <td>1.0</td>\n",
       "      <td>1.000000</td>\n",
       "      <td>0.000000</td>\n",
       "    </tr>\n",
       "    <tr>\n",
       "      <th>75%</th>\n",
       "      <td>0.130329</td>\n",
       "      <td>1.0</td>\n",
       "      <td>1.000000</td>\n",
       "      <td>1.000000</td>\n",
       "    </tr>\n",
       "    <tr>\n",
       "      <th>max</th>\n",
       "      <td>0.500000</td>\n",
       "      <td>1.0</td>\n",
       "      <td>1.000000</td>\n",
       "      <td>1.000000</td>\n",
       "    </tr>\n",
       "  </tbody>\n",
       "</table>\n",
       "</div>"
      ],
      "text/plain": [
       "       RECIPROCITY  NOMINEE          WIN         LOSE\n",
       "count  1692.000000   1692.0  1692.000000  1692.000000\n",
       "mean      0.096851      1.0     0.751182     0.368794\n",
       "std       0.064044      0.0     0.432456     0.482621\n",
       "min       0.002110      1.0     0.000000     0.000000\n",
       "25%       0.047619      1.0     1.000000     0.000000\n",
       "50%       0.083436      1.0     1.000000     0.000000\n",
       "75%       0.130329      1.0     1.000000     1.000000\n",
       "max       0.500000      1.0     1.000000     1.000000"
      ]
     },
     "execution_count": 46,
     "metadata": {},
     "output_type": "execute_result"
    }
   ],
   "source": [
    "# Analyse those with reciprocal relationships\n",
    "\n",
    "recip_df = recip_df[recip_df['RECIPROCITY'] != 0.0]\n",
    "recip_df.describe()"
   ]
  },
  {
   "cell_type": "code",
   "execution_count": 47,
   "id": "5e3df5d7",
   "metadata": {
    "ExecuteTime": {
     "end_time": "2022-06-03T20:26:27.827416Z",
     "start_time": "2022-06-03T20:26:27.797457Z"
    }
   },
   "outputs": [
    {
     "name": "stdout",
     "output_type": "stream",
     "text": [
      "Number of Election Loser with Reciprocity:  624\n",
      "Number of Losers with Reciprocity turned Winners:  203\n"
     ]
    }
   ],
   "source": [
    "loss = recip_df[recip_df['LOSE'] == 1]\n",
    "print('Number of Election Loser with Reciprocity: ', loss.shape[0])\n",
    "\n",
    "loss2win = loss[loss['WIN'] == loss['LOSE']]\n",
    "print('Number of Losers with Reciprocity turned Winners: ', loss2win.shape[0])"
   ]
  },
  {
   "cell_type": "code",
   "execution_count": null,
   "id": "5145486c",
   "metadata": {},
   "outputs": [],
   "source": []
  }
 ],
 "metadata": {
  "kernelspec": {
   "display_name": "Python 3 (ipykernel)",
   "language": "python",
   "name": "python3"
  },
  "language_info": {
   "codemirror_mode": {
    "name": "ipython",
    "version": 3
   },
   "file_extension": ".py",
   "mimetype": "text/x-python",
   "name": "python",
   "nbconvert_exporter": "python",
   "pygments_lexer": "ipython3",
   "version": "3.8.8"
  }
 },
 "nbformat": 4,
 "nbformat_minor": 5
}
