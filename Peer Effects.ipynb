{
 "cells": [
  {
   "cell_type": "code",
   "execution_count": 1,
   "id": "993dd610",
   "metadata": {
    "ExecuteTime": {
     "end_time": "2022-06-05T14:52:03.191173Z",
     "start_time": "2022-06-05T14:52:01.664166Z"
    }
   },
   "outputs": [],
   "source": [
    "# Requirements\n",
    "import pandas as pd\n",
    "import numpy as np\n",
    "import datetime as dt\n",
    "import networkx as nx\n",
    "import statsmodels.api as sm\n",
    "\n",
    "import warnings\n",
    "warnings.filterwarnings('ignore')"
   ]
  },
  {
   "cell_type": "code",
   "execution_count": 2,
   "id": "18dd5138",
   "metadata": {
    "ExecuteTime": {
     "end_time": "2022-06-05T14:52:04.029305Z",
     "start_time": "2022-06-05T14:52:03.194176Z"
    }
   },
   "outputs": [
    {
     "data": {
      "text/html": [
       "<div>\n",
       "<style scoped>\n",
       "    .dataframe tbody tr th:only-of-type {\n",
       "        vertical-align: middle;\n",
       "    }\n",
       "\n",
       "    .dataframe tbody tr th {\n",
       "        vertical-align: top;\n",
       "    }\n",
       "\n",
       "    .dataframe thead th {\n",
       "        text-align: right;\n",
       "    }\n",
       "</style>\n",
       "<table border=\"1\" class=\"dataframe\">\n",
       "  <thead>\n",
       "    <tr style=\"text-align: right;\">\n",
       "      <th></th>\n",
       "      <th>SOURCE</th>\n",
       "      <th>TARGET</th>\n",
       "      <th>VOTE</th>\n",
       "      <th>RESULT</th>\n",
       "      <th>YEAR</th>\n",
       "      <th>DATE</th>\n",
       "      <th>TEXT</th>\n",
       "    </tr>\n",
       "  </thead>\n",
       "  <tbody>\n",
       "    <tr>\n",
       "      <th>0</th>\n",
       "      <td>Steel1943</td>\n",
       "      <td>BDD</td>\n",
       "      <td>1</td>\n",
       "      <td>1</td>\n",
       "      <td>2013</td>\n",
       "      <td>19/04/2013 23:13</td>\n",
       "      <td>'''Support''' as co-nom.</td>\n",
       "    </tr>\n",
       "    <tr>\n",
       "      <th>1</th>\n",
       "      <td>Cuchullain</td>\n",
       "      <td>BDD</td>\n",
       "      <td>1</td>\n",
       "      <td>1</td>\n",
       "      <td>2013</td>\n",
       "      <td>20/04/2013 01:04</td>\n",
       "      <td>'''Support''' as nominator.--</td>\n",
       "    </tr>\n",
       "    <tr>\n",
       "      <th>2</th>\n",
       "      <td>INeverCry</td>\n",
       "      <td>BDD</td>\n",
       "      <td>1</td>\n",
       "      <td>1</td>\n",
       "      <td>2013</td>\n",
       "      <td>19/04/2013 23:43</td>\n",
       "      <td>'''Support''' per noms.</td>\n",
       "    </tr>\n",
       "    <tr>\n",
       "      <th>3</th>\n",
       "      <td>Cncmaster</td>\n",
       "      <td>BDD</td>\n",
       "      <td>1</td>\n",
       "      <td>1</td>\n",
       "      <td>2013</td>\n",
       "      <td>20/04/2013 00:11</td>\n",
       "      <td>'''Support''' per noms. BDD is a strong contri...</td>\n",
       "    </tr>\n",
       "    <tr>\n",
       "      <th>4</th>\n",
       "      <td>Miniapolis</td>\n",
       "      <td>BDD</td>\n",
       "      <td>1</td>\n",
       "      <td>1</td>\n",
       "      <td>2013</td>\n",
       "      <td>20/04/2013 00:56</td>\n",
       "      <td>'''Support''', with great pleasure. I work wit...</td>\n",
       "    </tr>\n",
       "  </tbody>\n",
       "</table>\n",
       "</div>"
      ],
      "text/plain": [
       "       SOURCE TARGET  VOTE  RESULT  YEAR              DATE  \\\n",
       "0   Steel1943    BDD     1       1  2013  19/04/2013 23:13   \n",
       "1  Cuchullain    BDD     1       1  2013  20/04/2013 01:04   \n",
       "2   INeverCry    BDD     1       1  2013  19/04/2013 23:43   \n",
       "3   Cncmaster    BDD     1       1  2013  20/04/2013 00:11   \n",
       "4  Miniapolis    BDD     1       1  2013  20/04/2013 00:56   \n",
       "\n",
       "                                                TEXT  \n",
       "0                           '''Support''' as co-nom.  \n",
       "1                      '''Support''' as nominator.--  \n",
       "2                            '''Support''' per noms.  \n",
       "3  '''Support''' per noms. BDD is a strong contri...  \n",
       "4  '''Support''', with great pleasure. I work wit...  "
      ]
     },
     "execution_count": 2,
     "metadata": {},
     "output_type": "execute_result"
    }
   ],
   "source": [
    "# Get DataFrame\n",
    "wiki = pd.read_csv('wikiRfA.csv')\n",
    "wiki.head()"
   ]
  },
  {
   "cell_type": "code",
   "execution_count": 3,
   "id": "7926ae87",
   "metadata": {
    "ExecuteTime": {
     "end_time": "2022-06-05T14:52:04.627920Z",
     "start_time": "2022-06-05T14:52:04.031307Z"
    }
   },
   "outputs": [],
   "source": [
    "# Adjust Date Format\n",
    "wiki['DATE'] = pd.to_datetime(wiki['DATE'], infer_datetime_format=True)\n",
    "\n",
    "# Get Month Variable\n",
    "wiki['MONTH'] = pd.to_datetime(wiki['DATE']).dt.month\n",
    "\n",
    "# Election Identifier\n",
    "wiki['ELECTION'] = wiki['TARGET'] + ', ' + wiki['MONTH'].astype(str) "
   ]
  },
  {
   "cell_type": "code",
   "execution_count": 4,
   "id": "36d7c71e",
   "metadata": {
    "ExecuteTime": {
     "end_time": "2022-06-05T14:52:04.800331Z",
     "start_time": "2022-06-05T14:52:04.631924Z"
    }
   },
   "outputs": [],
   "source": [
    "# Remove missing values\n",
    "wiki = wiki.dropna()"
   ]
  },
  {
   "cell_type": "code",
   "execution_count": 5,
   "id": "df305313",
   "metadata": {
    "ExecuteTime": {
     "end_time": "2022-06-05T14:52:04.816319Z",
     "start_time": "2022-06-05T14:52:04.802318Z"
    }
   },
   "outputs": [
    {
     "data": {
      "text/html": [
       "<div>\n",
       "<style scoped>\n",
       "    .dataframe tbody tr th:only-of-type {\n",
       "        vertical-align: middle;\n",
       "    }\n",
       "\n",
       "    .dataframe tbody tr th {\n",
       "        vertical-align: top;\n",
       "    }\n",
       "\n",
       "    .dataframe thead th {\n",
       "        text-align: right;\n",
       "    }\n",
       "</style>\n",
       "<table border=\"1\" class=\"dataframe\">\n",
       "  <thead>\n",
       "    <tr style=\"text-align: right;\">\n",
       "      <th></th>\n",
       "      <th>SOURCE</th>\n",
       "      <th>TARGET</th>\n",
       "      <th>VOTE</th>\n",
       "      <th>RESULT</th>\n",
       "      <th>YEAR</th>\n",
       "      <th>DATE</th>\n",
       "      <th>TEXT</th>\n",
       "      <th>MONTH</th>\n",
       "      <th>ELECTION</th>\n",
       "    </tr>\n",
       "  </thead>\n",
       "  <tbody>\n",
       "    <tr>\n",
       "      <th>0</th>\n",
       "      <td>Steel1943</td>\n",
       "      <td>BDD</td>\n",
       "      <td>1</td>\n",
       "      <td>1</td>\n",
       "      <td>2013</td>\n",
       "      <td>2013-04-19 23:13:00</td>\n",
       "      <td>'''Support''' as co-nom.</td>\n",
       "      <td>4.0</td>\n",
       "      <td>BDD, 4.0</td>\n",
       "    </tr>\n",
       "    <tr>\n",
       "      <th>1</th>\n",
       "      <td>Cuchullain</td>\n",
       "      <td>BDD</td>\n",
       "      <td>1</td>\n",
       "      <td>1</td>\n",
       "      <td>2013</td>\n",
       "      <td>2013-04-20 01:04:00</td>\n",
       "      <td>'''Support''' as nominator.--</td>\n",
       "      <td>4.0</td>\n",
       "      <td>BDD, 4.0</td>\n",
       "    </tr>\n",
       "    <tr>\n",
       "      <th>2</th>\n",
       "      <td>INeverCry</td>\n",
       "      <td>BDD</td>\n",
       "      <td>1</td>\n",
       "      <td>1</td>\n",
       "      <td>2013</td>\n",
       "      <td>2013-04-19 23:43:00</td>\n",
       "      <td>'''Support''' per noms.</td>\n",
       "      <td>4.0</td>\n",
       "      <td>BDD, 4.0</td>\n",
       "    </tr>\n",
       "    <tr>\n",
       "      <th>3</th>\n",
       "      <td>Cncmaster</td>\n",
       "      <td>BDD</td>\n",
       "      <td>1</td>\n",
       "      <td>1</td>\n",
       "      <td>2013</td>\n",
       "      <td>2013-04-20 00:11:00</td>\n",
       "      <td>'''Support''' per noms. BDD is a strong contri...</td>\n",
       "      <td>4.0</td>\n",
       "      <td>BDD, 4.0</td>\n",
       "    </tr>\n",
       "    <tr>\n",
       "      <th>4</th>\n",
       "      <td>Miniapolis</td>\n",
       "      <td>BDD</td>\n",
       "      <td>1</td>\n",
       "      <td>1</td>\n",
       "      <td>2013</td>\n",
       "      <td>2013-04-20 00:56:00</td>\n",
       "      <td>'''Support''', with great pleasure. I work wit...</td>\n",
       "      <td>4.0</td>\n",
       "      <td>BDD, 4.0</td>\n",
       "    </tr>\n",
       "  </tbody>\n",
       "</table>\n",
       "</div>"
      ],
      "text/plain": [
       "       SOURCE TARGET  VOTE  RESULT  YEAR                DATE  \\\n",
       "0   Steel1943    BDD     1       1  2013 2013-04-19 23:13:00   \n",
       "1  Cuchullain    BDD     1       1  2013 2013-04-20 01:04:00   \n",
       "2   INeverCry    BDD     1       1  2013 2013-04-19 23:43:00   \n",
       "3   Cncmaster    BDD     1       1  2013 2013-04-20 00:11:00   \n",
       "4  Miniapolis    BDD     1       1  2013 2013-04-20 00:56:00   \n",
       "\n",
       "                                                TEXT  MONTH  ELECTION  \n",
       "0                           '''Support''' as co-nom.    4.0  BDD, 4.0  \n",
       "1                      '''Support''' as nominator.--    4.0  BDD, 4.0  \n",
       "2                            '''Support''' per noms.    4.0  BDD, 4.0  \n",
       "3  '''Support''' per noms. BDD is a strong contri...    4.0  BDD, 4.0  \n",
       "4  '''Support''', with great pleasure. I work wit...    4.0  BDD, 4.0  "
      ]
     },
     "execution_count": 5,
     "metadata": {},
     "output_type": "execute_result"
    }
   ],
   "source": [
    "wiki.head()"
   ]
  },
  {
   "cell_type": "code",
   "execution_count": 6,
   "id": "82dcbeae",
   "metadata": {
    "ExecuteTime": {
     "end_time": "2022-06-05T14:52:04.846942Z",
     "start_time": "2022-06-05T14:52:04.822018Z"
    }
   },
   "outputs": [
    {
     "data": {
      "text/plain": [
       "4522"
      ]
     },
     "execution_count": 6,
     "metadata": {},
     "output_type": "execute_result"
    }
   ],
   "source": [
    "# Number of Elections\n",
    "wiki['ELECTION'].nunique() "
   ]
  },
  {
   "cell_type": "code",
   "execution_count": 7,
   "id": "61d0930b",
   "metadata": {
    "ExecuteTime": {
     "end_time": "2022-06-05T14:52:04.878126Z",
     "start_time": "2022-06-05T14:52:04.849916Z"
    }
   },
   "outputs": [
    {
     "data": {
      "text/plain": [
       "3445"
      ]
     },
     "execution_count": 7,
     "metadata": {},
     "output_type": "execute_result"
    }
   ],
   "source": [
    "# Number of Nominees\n",
    "wiki['TARGET'].nunique()"
   ]
  },
  {
   "cell_type": "markdown",
   "id": "ed53ff8b",
   "metadata": {},
   "source": [
    "Therefore, from the 1,585 individuals who lost election there were approximately 1,077 re-trys."
   ]
  },
  {
   "cell_type": "code",
   "execution_count": 8,
   "id": "7df2acd6",
   "metadata": {
    "ExecuteTime": {
     "end_time": "2022-06-05T14:52:04.909366Z",
     "start_time": "2022-06-05T14:52:04.881129Z"
    }
   },
   "outputs": [],
   "source": [
    "elections = set(wiki['ELECTION'].tolist())"
   ]
  },
  {
   "cell_type": "code",
   "execution_count": 9,
   "id": "3ac10b62",
   "metadata": {
    "ExecuteTime": {
     "end_time": "2022-06-05T14:53:21.497154Z",
     "start_time": "2022-06-05T14:52:04.911356Z"
    }
   },
   "outputs": [],
   "source": [
    "# Get Matrices Needed for Peer Effects Regressions\n",
    "\n",
    "IGY = []\n",
    "IGGY = []\n",
    "\n",
    "for i in elections:\n",
    "    election_df = wiki[wiki['ELECTION'] == i]\n",
    "    \n",
    "    # Create the graph & get adjacency matrix\n",
    "    G_elec = nx.from_pandas_edgelist(election_df, 'SOURCE', 'TARGET', create_using=nx.MultiDiGraph())\n",
    "    G = nx.to_numpy_array(G_elec)\n",
    "    \n",
    "    # Get Identity Matrix\n",
    "    I = np.identity(G.shape[0])\n",
    "    \n",
    "    # Get Y variable\n",
    "    y_df = election_df.groupby(['SOURCE']).agg(VOTE = ('VOTE', pd.Series.median))\n",
    "    y = y_df['VOTE'].values\n",
    "    \n",
    "    # Get (I-G)\n",
    "    IG = np.subtract(I, G)\n",
    "    \n",
    "    # Get (I-G)y\n",
    "    try:\n",
    "        IGy = np.matmul(IG, y)\n",
    "    except: \n",
    "        y = np.append(y, 1)\n",
    "        IGy = np.matmul(IG, y)\n",
    "    IGY.append(IGy)\n",
    "    \n",
    "    # Get (I-G)Gy\n",
    "    IGG = np.matmul(IG, G)\n",
    "    IGGy = np.matmul(IGG, y)\n",
    "    IGGY.append(IGGy)"
   ]
  },
  {
   "cell_type": "code",
   "execution_count": 10,
   "id": "49424778",
   "metadata": {
    "ExecuteTime": {
     "end_time": "2022-06-05T14:53:23.006161Z",
     "start_time": "2022-06-05T14:53:21.497154Z"
    }
   },
   "outputs": [],
   "source": [
    "# Estimate Simple Peer Effects Model\n",
    "\n",
    "B = []\n",
    "p_values = []\n",
    "\n",
    "for i in range(len(elections)):\n",
    "    # Regress and get parameters\n",
    "    lin_reg = sm.OLS(IGY[i], IGGY[i], hasconst=False)\n",
    "    results = lin_reg.fit()\n",
    "    beta = results.params[0]\n",
    "    p = results.pvalues[0]\n",
    "    B.append(beta)\n",
    "    p_values.append(p)"
   ]
  },
  {
   "cell_type": "code",
   "execution_count": 11,
   "id": "31211ff7",
   "metadata": {
    "ExecuteTime": {
     "end_time": "2022-06-05T14:53:23.037267Z",
     "start_time": "2022-06-05T14:53:23.006161Z"
    }
   },
   "outputs": [
    {
     "data": {
      "text/html": [
       "<div>\n",
       "<style scoped>\n",
       "    .dataframe tbody tr th:only-of-type {\n",
       "        vertical-align: middle;\n",
       "    }\n",
       "\n",
       "    .dataframe tbody tr th {\n",
       "        vertical-align: top;\n",
       "    }\n",
       "\n",
       "    .dataframe thead th {\n",
       "        text-align: right;\n",
       "    }\n",
       "</style>\n",
       "<table border=\"1\" class=\"dataframe\">\n",
       "  <thead>\n",
       "    <tr style=\"text-align: right;\">\n",
       "      <th></th>\n",
       "      <th>beta</th>\n",
       "      <th>p</th>\n",
       "    </tr>\n",
       "  </thead>\n",
       "  <tbody>\n",
       "    <tr>\n",
       "      <th>count</th>\n",
       "      <td>4522.000000</td>\n",
       "      <td>4.151000e+03</td>\n",
       "    </tr>\n",
       "    <tr>\n",
       "      <th>mean</th>\n",
       "      <td>-0.436281</td>\n",
       "      <td>2.785158e-01</td>\n",
       "    </tr>\n",
       "    <tr>\n",
       "      <th>std</th>\n",
       "      <td>0.489939</td>\n",
       "      <td>3.661104e-01</td>\n",
       "    </tr>\n",
       "    <tr>\n",
       "      <th>min</th>\n",
       "      <td>-2.600000</td>\n",
       "      <td>7.334331e-129</td>\n",
       "    </tr>\n",
       "    <tr>\n",
       "      <th>25%</th>\n",
       "      <td>-0.705817</td>\n",
       "      <td>1.382014e-04</td>\n",
       "    </tr>\n",
       "    <tr>\n",
       "      <th>50%</th>\n",
       "      <td>-0.277778</td>\n",
       "      <td>9.361919e-02</td>\n",
       "    </tr>\n",
       "    <tr>\n",
       "      <th>75%</th>\n",
       "      <td>-0.008774</td>\n",
       "      <td>3.735695e-01</td>\n",
       "    </tr>\n",
       "    <tr>\n",
       "      <th>max</th>\n",
       "      <td>1.134615</td>\n",
       "      <td>1.000000e+00</td>\n",
       "    </tr>\n",
       "  </tbody>\n",
       "</table>\n",
       "</div>"
      ],
      "text/plain": [
       "              beta              p\n",
       "count  4522.000000   4.151000e+03\n",
       "mean     -0.436281   2.785158e-01\n",
       "std       0.489939   3.661104e-01\n",
       "min      -2.600000  7.334331e-129\n",
       "25%      -0.705817   1.382014e-04\n",
       "50%      -0.277778   9.361919e-02\n",
       "75%      -0.008774   3.735695e-01\n",
       "max       1.134615   1.000000e+00"
      ]
     },
     "execution_count": 11,
     "metadata": {},
     "output_type": "execute_result"
    }
   ],
   "source": [
    "# Get descriptive statistics\n",
    "\n",
    "des_stats = pd.DataFrame()\n",
    "des_stats['election'] = list(elections)\n",
    "des_stats['beta'] = B\n",
    "des_stats['p'] = p_values\n",
    "\n",
    "des_stats.describe()"
   ]
  },
  {
   "cell_type": "code",
   "execution_count": 12,
   "id": "238718c6",
   "metadata": {
    "ExecuteTime": {
     "end_time": "2022-06-05T14:53:23.100929Z",
     "start_time": "2022-06-05T14:53:23.039265Z"
    }
   },
   "outputs": [
    {
     "name": "stdout",
     "output_type": "stream",
     "text": [
      "The Number of significant peer effects at the 5% level:  1842\n",
      "The Number of significant peer effects at the 10% level:  2100\n"
     ]
    }
   ],
   "source": [
    "# Find number of significant and insignificant peer effects\n",
    "\n",
    "# 5% significance\n",
    "def sig5(x):\n",
    "    return x < 0.05\n",
    "\n",
    "# 10% significance\n",
    "def sig10(x):\n",
    "    return x < 0.1\n",
    "\n",
    "print('The Number of significant peer effects at the 5% level: ', sum(sig5(x) for x in p_values))\n",
    "print('The Number of significant peer effects at the 10% level: ', sum(sig10(x) for x in p_values))"
   ]
  },
  {
   "cell_type": "code",
   "execution_count": 13,
   "id": "8ab121b7",
   "metadata": {
    "ExecuteTime": {
     "end_time": "2022-06-05T14:53:23.131451Z",
     "start_time": "2022-06-05T14:53:23.102436Z"
    }
   },
   "outputs": [
    {
     "data": {
      "text/html": [
       "<div>\n",
       "<style scoped>\n",
       "    .dataframe tbody tr th:only-of-type {\n",
       "        vertical-align: middle;\n",
       "    }\n",
       "\n",
       "    .dataframe tbody tr th {\n",
       "        vertical-align: top;\n",
       "    }\n",
       "\n",
       "    .dataframe thead th {\n",
       "        text-align: right;\n",
       "    }\n",
       "</style>\n",
       "<table border=\"1\" class=\"dataframe\">\n",
       "  <thead>\n",
       "    <tr style=\"text-align: right;\">\n",
       "      <th></th>\n",
       "      <th>beta</th>\n",
       "      <th>p</th>\n",
       "    </tr>\n",
       "  </thead>\n",
       "  <tbody>\n",
       "    <tr>\n",
       "      <th>count</th>\n",
       "      <td>1842.000000</td>\n",
       "      <td>1.842000e+03</td>\n",
       "    </tr>\n",
       "    <tr>\n",
       "      <th>mean</th>\n",
       "      <td>-0.768205</td>\n",
       "      <td>5.932385e-03</td>\n",
       "    </tr>\n",
       "    <tr>\n",
       "      <th>std</th>\n",
       "      <td>0.463728</td>\n",
       "      <td>1.190814e-02</td>\n",
       "    </tr>\n",
       "    <tr>\n",
       "      <th>min</th>\n",
       "      <td>-2.600000</td>\n",
       "      <td>7.334331e-129</td>\n",
       "    </tr>\n",
       "    <tr>\n",
       "      <th>25%</th>\n",
       "      <td>-1.057158</td>\n",
       "      <td>1.085749e-09</td>\n",
       "    </tr>\n",
       "    <tr>\n",
       "      <th>50%</th>\n",
       "      <td>-0.717186</td>\n",
       "      <td>2.755176e-05</td>\n",
       "    </tr>\n",
       "    <tr>\n",
       "      <th>75%</th>\n",
       "      <td>-0.412084</td>\n",
       "      <td>4.499536e-03</td>\n",
       "    </tr>\n",
       "    <tr>\n",
       "      <th>max</th>\n",
       "      <td>1.134615</td>\n",
       "      <td>4.985046e-02</td>\n",
       "    </tr>\n",
       "  </tbody>\n",
       "</table>\n",
       "</div>"
      ],
      "text/plain": [
       "              beta              p\n",
       "count  1842.000000   1.842000e+03\n",
       "mean     -0.768205   5.932385e-03\n",
       "std       0.463728   1.190814e-02\n",
       "min      -2.600000  7.334331e-129\n",
       "25%      -1.057158   1.085749e-09\n",
       "50%      -0.717186   2.755176e-05\n",
       "75%      -0.412084   4.499536e-03\n",
       "max       1.134615   4.985046e-02"
      ]
     },
     "execution_count": 13,
     "metadata": {},
     "output_type": "execute_result"
    }
   ],
   "source": [
    "# Analyse Significant Elections\n",
    "\n",
    "sig5_elec = des_stats[des_stats['p'] < 0.05]\n",
    "sig5_elec.describe()"
   ]
  },
  {
   "cell_type": "code",
   "execution_count": 14,
   "id": "26991ecc",
   "metadata": {
    "ExecuteTime": {
     "end_time": "2022-06-05T14:53:23.163451Z",
     "start_time": "2022-06-05T14:53:23.133452Z"
    }
   },
   "outputs": [
    {
     "data": {
      "text/html": [
       "<div>\n",
       "<style scoped>\n",
       "    .dataframe tbody tr th:only-of-type {\n",
       "        vertical-align: middle;\n",
       "    }\n",
       "\n",
       "    .dataframe tbody tr th {\n",
       "        vertical-align: top;\n",
       "    }\n",
       "\n",
       "    .dataframe thead th {\n",
       "        text-align: right;\n",
       "    }\n",
       "</style>\n",
       "<table border=\"1\" class=\"dataframe\">\n",
       "  <thead>\n",
       "    <tr style=\"text-align: right;\">\n",
       "      <th></th>\n",
       "      <th>beta</th>\n",
       "      <th>p</th>\n",
       "    </tr>\n",
       "  </thead>\n",
       "  <tbody>\n",
       "    <tr>\n",
       "      <th>count</th>\n",
       "      <td>5.000000</td>\n",
       "      <td>5.000000e+00</td>\n",
       "    </tr>\n",
       "    <tr>\n",
       "      <th>mean</th>\n",
       "      <td>0.506494</td>\n",
       "      <td>1.159439e-02</td>\n",
       "    </tr>\n",
       "    <tr>\n",
       "      <th>std</th>\n",
       "      <td>0.432114</td>\n",
       "      <td>2.201654e-02</td>\n",
       "    </tr>\n",
       "    <tr>\n",
       "      <th>min</th>\n",
       "      <td>0.074468</td>\n",
       "      <td>6.497071e-15</td>\n",
       "    </tr>\n",
       "    <tr>\n",
       "      <th>25%</th>\n",
       "      <td>0.203704</td>\n",
       "      <td>2.528358e-13</td>\n",
       "    </tr>\n",
       "    <tr>\n",
       "      <th>50%</th>\n",
       "      <td>0.375000</td>\n",
       "      <td>3.058879e-03</td>\n",
       "    </tr>\n",
       "    <tr>\n",
       "      <th>75%</th>\n",
       "      <td>0.744681</td>\n",
       "      <td>4.068680e-03</td>\n",
       "    </tr>\n",
       "    <tr>\n",
       "      <th>max</th>\n",
       "      <td>1.134615</td>\n",
       "      <td>5.084437e-02</td>\n",
       "    </tr>\n",
       "  </tbody>\n",
       "</table>\n",
       "</div>"
      ],
      "text/plain": [
       "           beta             p\n",
       "count  5.000000  5.000000e+00\n",
       "mean   0.506494  1.159439e-02\n",
       "std    0.432114  2.201654e-02\n",
       "min    0.074468  6.497071e-15\n",
       "25%    0.203704  2.528358e-13\n",
       "50%    0.375000  3.058879e-03\n",
       "75%    0.744681  4.068680e-03\n",
       "max    1.134615  5.084437e-02"
      ]
     },
     "execution_count": 14,
     "metadata": {},
     "output_type": "execute_result"
    }
   ],
   "source": [
    "# Analyse Positive Peer Effects\n",
    "\n",
    "pos_elec = des_stats[des_stats['beta'] > 0]\n",
    "pos_elec.describe()"
   ]
  },
  {
   "cell_type": "code",
   "execution_count": 15,
   "id": "0a06a701",
   "metadata": {
    "ExecuteTime": {
     "end_time": "2022-06-05T16:43:53.945776Z",
     "start_time": "2022-06-05T16:43:53.844866Z"
    }
   },
   "outputs": [
    {
     "data": {
      "text/plain": [
       "891         Redwolf24, 7.0\n",
       "2723           JesseW, 8.0\n",
       "3777            Femto, 2.0\n",
       "4117    Ricardo Lagos, 3.0\n",
       "4456     David Kernow, 9.0\n",
       "Name: election, dtype: object"
      ]
     },
     "execution_count": 15,
     "metadata": {},
     "output_type": "execute_result"
    }
   ],
   "source": [
    "pos_elec['election']"
   ]
  },
  {
   "cell_type": "code",
   "execution_count": null,
   "id": "e8af4802",
   "metadata": {},
   "outputs": [],
   "source": []
  }
 ],
 "metadata": {
  "kernelspec": {
   "display_name": "Python 3 (ipykernel)",
   "language": "python",
   "name": "python3"
  },
  "language_info": {
   "codemirror_mode": {
    "name": "ipython",
    "version": 3
   },
   "file_extension": ".py",
   "mimetype": "text/x-python",
   "name": "python",
   "nbconvert_exporter": "python",
   "pygments_lexer": "ipython3",
   "version": "3.9.12"
  }
 },
 "nbformat": 4,
 "nbformat_minor": 5
}
